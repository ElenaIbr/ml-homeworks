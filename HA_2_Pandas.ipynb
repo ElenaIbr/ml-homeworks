{
  "nbformat": 4,
  "nbformat_minor": 0,
  "metadata": {
    "colab": {
      "provenance": []
    },
    "kernelspec": {
      "name": "python3",
      "display_name": "Python 3"
    },
    "language_info": {
      "name": "python"
    }
  },
  "cells": [
    {
      "cell_type": "markdown",
      "metadata": {
        "id": "kmR0IBowrBPV"
      },
      "source": [
        "# Machine Learning\n",
        "\n",
        "## HSE, 2024-25"
      ]
    },
    {
      "cell_type": "markdown",
      "metadata": {
        "id": "EUirCNdvd-1A"
      },
      "source": [
        "### Home Assignment #2. Pandas. Matplotlib"
      ]
    },
    {
      "cell_type": "markdown",
      "metadata": {
        "id": "m86CXebYd-1H"
      },
      "source": [
        "The assignment was completed by: _(insert your first and last name)_"
      ]
    },
    {
      "cell_type": "markdown",
      "metadata": {
        "id": "kqVyveO4FLxx"
      },
      "source": [
        "### General information"
      ]
    },
    {
      "cell_type": "markdown",
      "metadata": {
        "id": "2A0wmBWwFLxx"
      },
      "source": [
        "__Publication date:__ 15.02.2025\n",
        "\n",
        "__Deadline:__ 04:00 28.02.2025"
      ]
    },
    {
      "cell_type": "markdown",
      "metadata": {
        "id": "qK8Ari9eFLxz"
      },
      "source": [
        "### Grading and penalties\n",
        "\n",
        "Each task is assessed with 3 points.\n",
        "\n",
        "The grade for HA is calculated according to the following formula:\n",
        "\n",
        "$$\n",
        "s_{\\text{pandas}} \\times 10/48 ,\n",
        "$$\n",
        "\n",
        "where $s_{\\text{pandas}}$  — is the number of points you have scored in total on the tasks.\n",
        "\n",
        "Submitting a task late will incur a penalty of 1 point per day on the final grade for the task, but the delay cannot be more than 3 days.\n",
        "\n",
        "**Note:** This homework assignment contains several tasks that may earn bonus points. Bonus points are added to the regular points, and it may turn out that your final score will be greater than 10. In this case, this will be your score. So, for this HW **you can** get more than 10"
      ]
    },
    {
      "cell_type": "markdown",
      "metadata": {
        "id": "nEGThfK6FLx0"
      },
      "source": [
        "__WARNING!__ Homework must be completed independently. Assistance from classmates or third parties in solving homework assignments is not permitted. \"Similar\" solutions are considered plagiarism, and all involved students—including those who copied—will receive no credit for it. The use of generative models (such as ChatGPT and others) in solving homework assignments, beyond using them for reference and educational purposes, to generate assignment code, is considered plagiarism, and such homework will be graded as 0 points."
      ]
    },
    {
      "cell_type": "markdown",
      "metadata": {
        "id": "3q_sAVQZiPXS"
      },
      "source": [
        "### Submission format"
      ]
    },
    {
      "cell_type": "markdown",
      "metadata": {
        "id": "RzsgTAPYiPXa"
      },
      "source": [
        "You upload your solution using the link provided in the telegram channel. You need to upload a file with the extension .ipynb (Python notebook)"
      ]
    },
    {
      "cell_type": "markdown",
      "metadata": {
        "id": "Sd_-lxmCiPXa"
      },
      "source": [
        "### About the assignment"
      ]
    },
    {
      "cell_type": "markdown",
      "metadata": {
        "id": "NXNpYAFdFLxz"
      },
      "source": [
        "In this homework assignment you will practice in using pandas and matplotlib libraries!"
      ]
    },
    {
      "cell_type": "code",
      "execution_count": 1,
      "metadata": {
        "collapsed": true,
        "id": "4gsWSgTIFLx1"
      },
      "outputs": [],
      "source": [
        "import matplotlib.pyplot as plt\n",
        "import pandas as pd\n",
        "\n",
        "%matplotlib inline"
      ]
    },
    {
      "cell_type": "markdown",
      "metadata": {
        "id": "ApiPWJygFLx2"
      },
      "source": [
        "Please note that in almost all tasks you will need to write some text in the form of a conclusion/result/some kind of summary. Please do not be lazy and write your conclusions in ***detail***, a significant part of the points will be awarded specifically for conclusions, since they are really important in data analysis. Thus, answer any task formulated in the form of a question with text, supporting your words with written and executed code. Write the text of your conclusions/comments in separate cells using the text editor Jupyter Notebook/Google Colab, if necessary, use *highlighting* tools.\n",
        "\n",
        "While solving problems where you need to do some kind of filter, slice, selection, or other action with data, it is prohibited to use loops (`for`, `while`) and the `if` operator.\n",
        "\n",
        "Also, in some tasks you will be required to construct graphs. Each constructed graph must be beautifully designed - for this you need to at least indicate its name, and also note what is shown on each of the axes. Please do not neglect the design, since this is also assessed in this HW.\n",
        "\n",
        "*Functions that may be useful when designing charts: `.show()`, `.title()`, `.xlabel()`, `.ylabel()` and others*"
      ]
    },
    {
      "cell_type": "markdown",
      "metadata": {
        "id": "dGrzCZkIZKge"
      },
      "source": [
        "### 1"
      ]
    },
    {
      "cell_type": "markdown",
      "source": [
        "In this homework assignment, you will work with passenger data from the Titanic, which we briefly reviewed earlier in the lesson.\n",
        "\n",
        "A description of the data, as well as the data itself (where it should be downloaded from) can be found at the following link:\n",
        "\n",
        "https://www.kaggle.com/c/titanic/data"
      ],
      "metadata": {
        "id": "zGH53krziiVU"
      }
    },
    {
      "cell_type": "markdown",
      "metadata": {
        "id": "rQyUvNgkZKge"
      },
      "source": [
        "Open the data file (\"train.csv\") in your notebook. What size is the table? Print the first 5 and last 5 lines."
      ]
    },
    {
      "cell_type": "code",
      "execution_count": 3,
      "metadata": {
        "collapsed": true,
        "id": "nUpM5eHoZKgf",
        "colab": {
          "base_uri": "https://localhost:8080/"
        },
        "outputId": "6fab98d3-74d7-4c92-cf95-4466317df6ea"
      },
      "outputs": [
        {
          "output_type": "stream",
          "name": "stdout",
          "text": [
            "Size of the table: (891, 12)\n",
            "\n",
            "First 5 lines:\n",
            "   PassengerId  Survived  Pclass                                                 Name     Sex   Age  SibSp  Parch            Ticket     Fare Cabin Embarked\n",
            "0            1         0       3                              Braund, Mr. Owen Harris    male  22.0      1      0         A/5 21171   7.2500   NaN        S\n",
            "1            2         1       1  Cumings, Mrs. John Bradley (Florence Briggs Thayer)  female  38.0      1      0          PC 17599  71.2833   C85        C\n",
            "2            3         1       3                               Heikkinen, Miss. Laina  female  26.0      0      0  STON/O2. 3101282   7.9250   NaN        S\n",
            "3            4         1       1         Futrelle, Mrs. Jacques Heath (Lily May Peel)  female  35.0      1      0            113803  53.1000  C123        S\n",
            "4            5         0       3                             Allen, Mr. William Henry    male  35.0      0      0            373450   8.0500   NaN        S\n",
            "\n",
            "Last 5 lines:\n",
            "     PassengerId  Survived  Pclass                                      Name     Sex   Age  SibSp  Parch      Ticket   Fare Cabin Embarked\n",
            "886          887         0       2                     Montvila, Rev. Juozas    male  27.0      0      0      211536  13.00   NaN        S\n",
            "887          888         1       1              Graham, Miss. Margaret Edith  female  19.0      0      0      112053  30.00   B42        S\n",
            "888          889         0       3  Johnston, Miss. Catherine Helen \"Carrie\"  female   NaN      1      2  W./C. 6607  23.45   NaN        S\n",
            "889          890         1       1                     Behr, Mr. Karl Howell    male  26.0      0      0      111369  30.00  C148        C\n",
            "890          891         0       3                       Dooley, Mr. Patrick    male  32.0      0      0      370376   7.75   NaN        Q\n"
          ]
        }
      ],
      "source": [
        "data = pd.read_csv(\"train.csv\")\n",
        "\n",
        "#Table size (rows, columns)\n",
        "print(f\"Size of the table: {data.shape}\")\n",
        "\n",
        "#First 5 lines\n",
        "print(\"\\nFirst 5 lines:\")\n",
        "print(data.head().to_string())\n",
        "\n",
        "#Last 5 lines\n",
        "print(\"\\nLast 5 lines:\")\n",
        "print(data.tail().to_string())"
      ]
    },
    {
      "cell_type": "markdown",
      "source": [
        "### 2"
      ],
      "metadata": {
        "id": "8f1_cl1Ojg9r"
      }
    },
    {
      "cell_type": "markdown",
      "source": [
        "For each feature in the data, indicate the type of this feature."
      ],
      "metadata": {
        "id": "hOXMwdDGlAaa"
      }
    },
    {
      "cell_type": "markdown",
      "source": [
        "PassengerId\t(int64) - numeric  \n",
        "Survived:\t(int64) - binary сategorical  \n",
        "Pclass:\t(int64) - categorical  \n",
        "Name:\t(object) - numeric (can't be used for ML modeling, only for new features generation)  \n",
        "Sex:\t(object) - сategorical (could be encoded)  \n",
        "Age:\t(float64) - numeric  \n",
        "SibSp:\t(int64) - numeric  \n",
        "Parch:\t(int64) - numeric  \n",
        "Ticket:\t(object) - nominal categorical (can't be used for ML modeling, only for new features generation)  \n",
        "Fare:\t(float64) - numeric  \n",
        "Cabin:\t(object) - nominal categorical (can't be used for ML modeling, only for new features generation)  \n",
        "Embarked:\t(object) - сategorical (could be encoded)   "
      ],
      "metadata": {
        "id": "2einwDe8lVry"
      }
    },
    {
      "cell_type": "markdown",
      "source": [
        "### 3"
      ],
      "metadata": {
        "id": "FxJDNYhMljdc"
      }
    },
    {
      "cell_type": "markdown",
      "source": [
        "Come up with three data analysis problems that could be solved for this dataset:\n",
        "\n",
        "1. The regression problem - in other words, predicting a certain integer result for each object\n",
        "2. The task of classification - in other words, assigning each object to one of two or more predetermined classes (groups)\n",
        "3. The task of clustering - in other words, dividing all objects into an unknown number of groups based on the principle of their similarity to each other\n",
        "\n",
        "*You can read more about what regression, classification, and clustering problems are, for example, on Wikipedia. This is also described in simple language and with a specific example in this [article](https://habr.com/ru/company/simbirsoft/blog/565396/) (at the beginning)*"
      ],
      "metadata": {
        "id": "UVDua9fQllw6"
      }
    },
    {
      "cell_type": "markdown",
      "source": [
        "The regression problem: predicting the **Age** of a passenger based on other characteristics.  \n",
        "\n",
        "The task of classification: predicting of the **Survived** (0 = Died, 1 = Survived) based on features like Pclass, Sex, Age, Fare, and Embarked.  \n",
        "\n",
        "The task of clustering: identifying natural passenger groups based on socioeconomic characteristics (for example, could be upper, middle and lower classes).\n"
      ],
      "metadata": {
        "id": "2hrANQDyFYAK"
      }
    },
    {
      "cell_type": "markdown",
      "metadata": {
        "id": "w4CScFwLZKgg"
      },
      "source": [
        "### 4"
      ]
    },
    {
      "cell_type": "markdown",
      "metadata": {
        "id": "eQLEQXd-ZKgg"
      },
      "source": [
        "What is the proportion of passengers who survived the catastrophe? What is the proportion of men and women among the survivors?"
      ]
    },
    {
      "cell_type": "code",
      "execution_count": null,
      "metadata": {
        "collapsed": true,
        "id": "-uzVP9fTZKgg",
        "colab": {
          "base_uri": "https://localhost:8080/"
        },
        "outputId": "b6a45bed-134b-4e8c-f87c-2a356910f5bb"
      },
      "outputs": [
        {
          "output_type": "stream",
          "name": "stdout",
          "text": [
            "Proportion of passengers who survived: 38.38%\n",
            "Proportion of women among survivors: 68.13%\n",
            "Proportion of men among survivors: 31.87%\n"
          ]
        }
      ],
      "source": [
        "#Proportion of passengers who survived\n",
        "all_passengers = len(data)\n",
        "all_survivors = len(data[data[\"Survived\"] == 1])\n",
        "survival_proportion = (all_survivors / all_passengers) * 100\n",
        "\n",
        "print(f\"Proportion of passengers who survived: {survival_proportion:.2f}%\")\n",
        "\n",
        "#Proportion of men and women among survivors\n",
        "female_survivors = len(data[(data[\"Survived\"] == 1) & (data[\"Sex\"] == \"female\")])\n",
        "male_survivors = len(data[(data[\"Survived\"] == 1) & (data[\"Sex\"] == \"male\")])\n",
        "\n",
        "print(f\"Proportion of women among survivors: {(female_survivors / all_survivors)*100:.2f}%\")\n",
        "print(f\"Proportion of men among survivors: {(male_survivors / all_survivors)*100:.2f}%\")"
      ]
    },
    {
      "cell_type": "markdown",
      "metadata": {
        "id": "3Y8ILyzlZKgg"
      },
      "source": [
        "### 5"
      ]
    },
    {
      "cell_type": "markdown",
      "metadata": {
        "id": "nEfsxhQUZKgg"
      },
      "source": [
        "How many passengers were traveling in each class? Who were more in the most crowded class - men or women?"
      ]
    },
    {
      "cell_type": "code",
      "execution_count": null,
      "metadata": {
        "collapsed": true,
        "id": "kQVTfRKFZKgg",
        "colab": {
          "base_uri": "https://localhost:8080/"
        },
        "outputId": "98effeec-ede7-4973-c473-f2371951b198"
      },
      "outputs": [
        {
          "output_type": "stream",
          "name": "stdout",
          "text": [
            "Passengers were traveling in each class:\n",
            "Pclass\n",
            "1    216\n",
            "2    184\n",
            "3    491\n",
            "Name: count, dtype: int64\n",
            "The most crowded class was: 3 (491 passengers)\n",
            "There were 347 men and 144 women in the most crowed class\n",
            "There were more menin the most crowded class\n"
          ]
        }
      ],
      "source": [
        "#Passengers in each class\n",
        "passenger_by_class = data[\"Pclass\"].value_counts().sort_index()\n",
        "\n",
        "print(\"Passengers were traveling in each class:\")\n",
        "print(passenger_by_class)\n",
        "\n",
        "#The most crowded class\n",
        "most_crowded_class = passenger_by_class.idxmax()\n",
        "most_crowded_class_count = passenger_by_class.max()\n",
        "\n",
        "print(f\"The most crowded class was: {most_crowded_class} ({most_crowded_class_count} passengers)\")\n",
        "\n",
        "#Men and women in the most crowded class\n",
        "men_crowded_class = len(data[(data[\"Pclass\"] == most_crowded_class) & (data[\"Sex\"] == \"male\")])\n",
        "women_crowded_class = len(data[(data[\"Pclass\"] == most_crowded_class) & (data[\"Sex\"] == \"female\")])\n",
        "\n",
        "print(f\"There were {men_crowded_class} men and {women_crowded_class} women in the most crowed class\")\n",
        "\n",
        "if men_crowded_class > women_crowded_class:\n",
        "    print(\"There were more menin the most crowded class\")\n",
        "else:\n",
        "    print(\"There were more women in the most crowded class\")"
      ]
    },
    {
      "cell_type": "markdown",
      "metadata": {
        "id": "d9G-K_H0ZKgh"
      },
      "source": [
        "### 6"
      ]
    },
    {
      "cell_type": "markdown",
      "metadata": {
        "id": "gM69Tv9sZKgh"
      },
      "source": [
        "Print the minimum, average and maximum amount of money that passengers paid for travel. Repeat your actions only for those passengers who boarded the ship in Southampton. Print histograms showing the distribution of ticket prices depending on the boarding location. What can you say based on the results you get?"
      ]
    },
    {
      "cell_type": "code",
      "execution_count": null,
      "metadata": {
        "collapsed": true,
        "id": "JNyWyX1pZKgh",
        "colab": {
          "base_uri": "https://localhost:8080/",
          "height": 725
        },
        "outputId": "b81ff28e-fb20-4c12-b98a-d85b47856a29"
      },
      "outputs": [
        {
          "output_type": "stream",
          "name": "stdout",
          "text": [
            "Minimum amount: $0.00\n",
            "Average amount: $32.20\n",
            "Maximum amount: $512.33\n",
            "\n",
            "Minimum amount (Southampton): $0.00\n",
            "Average amount (Southampton): $27.08\n",
            "Maximum amount (Southampton): $263.00\n",
            "\n",
            "\n"
          ]
        },
        {
          "output_type": "display_data",
          "data": {
            "text/plain": [
              "<Figure size 1000x600 with 1 Axes>"
            ],
            "image/png": "[encoded data removed]"
          },
          "metadata": {}
        }
      ],
      "source": [
        "#The minimum, average and maximum amount of money that passengers paid for travel\n",
        "fare = data[\"Fare\"]\n",
        "\n",
        "print(f\"Minimum amount: ${fare.min():.2f}\")\n",
        "print(f\"Average amount: ${fare.mean():.2f}\")\n",
        "print(f\"Maximum amount: ${fare.max():.2f}\")\n",
        "\n",
        "#Same for those passengers who boarded the ship in Southampton\n",
        "southampton_passengers = data[data[\"Embarked\"] == \"S\"]\n",
        "southampton_passengers_fare = southampton_passengers[\"Fare\"]\n",
        "\n",
        "print(f\"\\nMinimum amount (Southampton): ${southampton_passengers_fare.min():.2f}\")\n",
        "print(f\"Average amount (Southampton): ${southampton_passengers_fare.mean():.2f}\")\n",
        "print(f\"Maximum amount (Southampton): ${southampton_passengers_fare.max():.2f}\")\n",
        "\n",
        "print(\"\\n\")\n",
        "\n",
        "#Histograms showing the distribution of ticket prices depending on the boarding location\n",
        "plt.figure(figsize=(10, 6))\n",
        "\n",
        "for location in data[\"Embarked\"].dropna().unique():\n",
        "    subset = data[data[\"Embarked\"] == location]\n",
        "    plt.hist(\n",
        "        subset[\"Fare\"],\n",
        "        bins=30,\n",
        "        alpha=0.6,\n",
        "        label=f\"Location: {location}\"\n",
        "    )\n",
        "\n",
        "plt.title(\"Histogram f the distribution of ticket prices depending on the boarding location\")\n",
        "plt.xlabel(\"Ticket Price ($)\")\n",
        "plt.ylabel(\"Number of Passengers\")\n",
        "\n",
        "plt.legend()\n",
        "plt.grid(True)\n",
        "plt.show()"
      ]
    },
    {
      "cell_type": "markdown",
      "source": [
        "Conclusions:\n",
        "\n",
        "*   Most passengers had low-cost tickets in the $0 - $50 range.\n",
        "*   The majority of passengers boarded from Southampton (S).\n",
        "*   All passengers from Queenstown (Q) paid less than $100.\n",
        "*   There is a wide spread of ticket prices among passengers who boarded from Cherbourg (C), indicating a mix of different classes."
      ],
      "metadata": {
        "id": "SVX8_1PqDaHh"
      }
    },
    {
      "cell_type": "markdown",
      "metadata": {
        "id": "VQ_ocDkOZKgh"
      },
      "source": [
        "### 7"
      ]
    },
    {
      "cell_type": "markdown",
      "metadata": {
        "id": "Z92wE5uJZKgh"
      },
      "source": [
        "Do all the features provide useful information? Why? Get rid of unnecessary columns. Justify your choice."
      ]
    },
    {
      "cell_type": "markdown",
      "source": [
        "Not all features provide useful information for analysis. Some columns can be removed, such as **PassengerId**, **Name**, **Ticket**, and **Cabin**, as they are useful only for internal management and do not contribute useful insights for the data analysis."
      ],
      "metadata": {
        "id": "OVobNewoFLTV"
      }
    },
    {
      "cell_type": "code",
      "execution_count": null,
      "metadata": {
        "collapsed": true,
        "id": "f79iiwhuZKgh",
        "colab": {
          "base_uri": "https://localhost:8080/"
        },
        "outputId": "7a476654-ccd9-4a3f-fc63-0ef31d373b77"
      },
      "outputs": [
        {
          "output_type": "stream",
          "name": "stdout",
          "text": [
            "PassengerId, Name, Ticket, Cabin could be removed. After removing:\n",
            "\n",
            "\n",
            "   Survived  Pclass     Sex   Age  SibSp  Parch     Fare Embarked\n",
            "0         0       3    male  22.0      1      0   7.2500        S\n",
            "1         1       1  female  38.0      1      0  71.2833        C\n",
            "2         1       3  female  26.0      0      0   7.9250        S\n",
            "3         1       1  female  35.0      1      0  53.1000        S\n",
            "4         0       3    male  35.0      0      0   8.0500        S\n"
          ]
        }
      ],
      "source": [
        "#Removing unuseful columns\n",
        "data_clean = data.drop(columns=[\"PassengerId\", \"Name\", \"Ticket\", \"Cabin\"])\n",
        "\n",
        "print(\"PassengerId, Name, Ticket, Cabin could be removed. After removing:\")\n",
        "print(\"\\n\")\n",
        "print(data_clean.head())"
      ]
    },
    {
      "cell_type": "markdown",
      "metadata": {
        "id": "L5KAIFPBZKgi"
      },
      "source": [
        "### 8"
      ]
    },
    {
      "cell_type": "markdown",
      "metadata": {
        "id": "Tv3QepvHZKgi"
      },
      "source": [
        "Are there any gaps in the data? If yes, in which columns? How many gaps are there in each of them?"
      ]
    },
    {
      "cell_type": "code",
      "execution_count": null,
      "metadata": {
        "collapsed": true,
        "id": "wgP23TD3ZKgi",
        "colab": {
          "base_uri": "https://localhost:8080/"
        },
        "outputId": "37d97def-d5f5-4db2-fecb-7554ede3dda3"
      },
      "outputs": [
        {
          "output_type": "stream",
          "name": "stdout",
          "text": [
            "Gaps in the each column:\n",
            "Age         177\n",
            "Cabin       687\n",
            "Embarked      2\n",
            "dtype: int64\n"
          ]
        }
      ],
      "source": [
        "#Sum of gaps in each column\n",
        "missing_values = data.isnull().sum()\n",
        "\n",
        "print(\"Gaps in the each column:\")\n",
        "print(missing_values[missing_values > 0])"
      ]
    },
    {
      "cell_type": "markdown",
      "metadata": {
        "id": "qGro4dvuZKgi"
      },
      "source": [
        "### 9"
      ]
    },
    {
      "cell_type": "markdown",
      "metadata": {
        "id": "SgT8Zb9gZKgi"
      },
      "source": [
        "Think about how to fill in the gaps in each column and perform it. Check that there are no gaps left anywhere."
      ]
    },
    {
      "cell_type": "code",
      "execution_count": null,
      "metadata": {
        "collapsed": true,
        "id": "1XaVOZf0ZKgi",
        "colab": {
          "base_uri": "https://localhost:8080/"
        },
        "outputId": "a174bd94-66bf-457a-ba3e-3f10f5cf0c1e"
      },
      "outputs": [
        {
          "output_type": "stream",
          "name": "stdout",
          "text": [
            "Gaps in the each column:\n",
            "Series([], dtype: int64)\n"
          ]
        }
      ],
      "source": [
        "#Fill gaps with default values\n",
        "data[\"Age\"] = data[\"Age\"].fillna(data[\"Age\"].median())\n",
        "data[\"Cabin\"] = data[\"Cabin\"].fillna(\"Unknown\")\n",
        "data[\"Embarked\"] = data[\"Embarked\"].fillna(data[\"Embarked\"].mode()[0])\n",
        "\n",
        "#Check that there are no gaps left anywhere\n",
        "missing_values_after_filling = data.isnull().sum()\n",
        "print(\"Gaps in the each column:\")\n",
        "print(missing_values_after_filling[missing_values_after_filling > 0])"
      ]
    },
    {
      "cell_type": "markdown",
      "metadata": {
        "id": "sTOh2jQ2ZKgj"
      },
      "source": [
        "### 10"
      ]
    },
    {
      "cell_type": "markdown",
      "metadata": {
        "id": "961UOK2CZKgj"
      },
      "source": [
        "Calculate how strongly the price of a ticket and the age of passengers correlate with each other. Also check the presence of this connection visually (building a [scatter plot](https://en.wikipedia.org/wiki/Scatter_plot) will help you with this). What conclusions can be drawn?"
      ]
    },
    {
      "cell_type": "code",
      "execution_count": null,
      "metadata": {
        "collapsed": true,
        "id": "9T42qGrkZKgj",
        "colab": {
          "base_uri": "https://localhost:8080/",
          "height": 564
        },
        "outputId": "3a9e91cc-f947-4ce8-89d7-ae80df41234c"
      },
      "outputs": [
        {
          "output_type": "display_data",
          "data": {
            "text/plain": [
              "<Figure size 800x600 with 1 Axes>"
            ],
            "image/png": "[encoded data removed]"
          },
          "metadata": {}
        }
      ],
      "source": [
        "import seaborn as sns\n",
        "\n",
        "#Ccorrelation between age and fare\n",
        "correlation = data[\"Age\"].corr(data[\"Fare\"])\n",
        "\n",
        "#Displaying with a scatter plot\n",
        "plt.figure(figsize=(8, 6))\n",
        "sns.scatterplot(x=data[\"Age\"], y=data[\"Fare\"], alpha=0.5)\n",
        "\n",
        "plt.title(f\"Ticket price and a passenger age correlation : {correlation:.2f}\")\n",
        "plt.xlabel(\"Passenger Age\")\n",
        "plt.ylabel(\"Ticket Price\")\n",
        "plt.grid(True)\n",
        "\n",
        "plt.show()\n"
      ]
    },
    {
      "cell_type": "markdown",
      "source": [
        "**Conllusion: there is no strong relationship between age and ticket price.**"
      ],
      "metadata": {
        "id": "Nj5kpkp1JOHq"
      }
    },
    {
      "cell_type": "markdown",
      "metadata": {
        "id": "mwGBdBzhZKgj"
      },
      "source": [
        "### 11"
      ]
    },
    {
      "cell_type": "markdown",
      "metadata": {
        "id": "AmYX1S_HZKgj"
      },
      "source": [
        "Is it true that passengers with more expensive tickets survived more often? Is there a dependence of survival on class? Give reasons for your answer!"
      ]
    },
    {
      "cell_type": "code",
      "execution_count": null,
      "metadata": {
        "collapsed": true,
        "id": "xjWnCLgpZKgj",
        "colab": {
          "base_uri": "https://localhost:8080/",
          "height": 564
        },
        "outputId": "df319033-646f-46da-d868-2b998e9ee5b6"
      },
      "outputs": [
        {
          "output_type": "display_data",
          "data": {
            "text/plain": [
              "<Figure size 800x600 with 1 Axes>"
            ],
            "image/png": "[encoded data removed]"
          },
          "metadata": {}
        }
      ],
      "source": [
        "#Correlation between Survived and Fare\n",
        "correlation = data[\"Survived\"].corr(data[\"Fare\"])\n",
        "\n",
        "#Box Plot\n",
        "plt.figure(figsize=(8, 6))\n",
        "plt.xticks([0, 1], [\"Non-Survivals\", \"Survivals\"])\n",
        "sns.boxplot(\n",
        "    x=\"Survived\",\n",
        "    y=\"Fare\",\n",
        "    hue=\"Survived\",\n",
        "    data=data,\n",
        "    palette=\"coolwarm\",\n",
        "    legend=False\n",
        ")\n",
        "\n",
        "plt.title(f\"Survival and ticket price correlation: {correlation:.2f}\")\n",
        "plt.xlabel(\"Survival (0 = No, 1 = Yes)\")\n",
        "plt.ylabel(\"Ticket Price\")\n",
        "plt.grid(True)\n",
        "\n",
        "plt.show()"
      ]
    },
    {
      "cell_type": "markdown",
      "source": [
        "The non-survivors box (0) is lower and narrow, so:\n",
        "*   Most non-survivors paid less than $50 for tickets\n",
        "*   Almost all of them were 3rd-class passengers\n",
        "\n",
        "The box for survivors (1) is higher and wider, so:\n",
        "*   All survivors paid more than $100 for tickets\n",
        "*   The median ticket price for survivors is higher\n",
        "\n",
        "**It confirms that wealthier passengers had better survival chances.**"
      ],
      "metadata": {
        "id": "vWKdLtjCNIMe"
      }
    },
    {
      "cell_type": "markdown",
      "metadata": {
        "id": "iQ3Q-4AMZKgk"
      },
      "source": [
        "### 12"
      ]
    },
    {
      "cell_type": "markdown",
      "metadata": {
        "id": "brZ1VUheZKgk"
      },
      "source": [
        "Creating new features (feature engineering) is one of the main means of improving the quality of machine learning algorithms at the data processing stage, and is also a great way to improve the quality of your conclusions from your analysis in general! Add a column to the table that will show how many relatives sailed with the passenger on the ship, including himself. How can such feature be useful?"
      ]
    },
    {
      "cell_type": "code",
      "execution_count": null,
      "metadata": {
        "collapsed": true,
        "id": "IUpwi7PmZKgk",
        "colab": {
          "base_uri": "https://localhost:8080/",
          "height": 241
        },
        "outputId": "373c00d3-6c95-42d4-a38d-efa6e021cb5f"
      },
      "outputs": [
        {
          "output_type": "execute_result",
          "data": {
            "text/plain": [
              "   PassengerId  Survived  Pclass  \\\n",
              "0            1         0       3   \n",
              "1            2         1       1   \n",
              "2            3         1       3   \n",
              "3            4         1       1   \n",
              "4            5         0       3   \n",
              "\n",
              "                                                Name     Sex   Age  SibSp  \\\n",
              "0                            Braund, Mr. Owen Harris    male  22.0      1   \n",
              "1  Cumings, Mrs. John Bradley (Florence Briggs Th...  female  38.0      1   \n",
              "2                             Heikkinen, Miss. Laina  female  26.0      0   \n",
              "3       Futrelle, Mrs. Jacques Heath (Lily May Peel)  female  35.0      1   \n",
              "4                           Allen, Mr. William Henry    male  35.0      0   \n",
              "\n",
              "   Parch            Ticket     Fare    Cabin Embarked  familyCount  \n",
              "0      0         A/5 21171   7.2500  Unknown        S            2  \n",
              "1      0          PC 17599  71.2833      C85        C            2  \n",
              "2      0  STON/O2. 3101282   7.9250  Unknown        S            1  \n",
              "3      0            113803  53.1000     C123        S            2  \n",
              "4      0            373450   8.0500  Unknown        S            1  "
            ],
            "text/html": [
              "\n",
              "  <div id=\"df-8ab8bd75-c5c6-4ef6-8842-7c27dc0bb833\" class=\"colab-df-container\">\n",
              "    <div>\n",
              "<style scoped>\n",
              "    .dataframe tbody tr th:only-of-type {\n",
              "        vertical-align: middle;\n",
              "    }\n",
              "\n",
              "    .dataframe tbody tr th {\n",
              "        vertical-align: top;\n",
              "    }\n",
              "\n",
              "    .dataframe thead th {\n",
              "        text-align: right;\n",
              "    }\n",
              "</style>\n",
              "<table border=\"1\" class=\"dataframe\">\n",
              "  <thead>\n",
              "    <tr style=\"text-align: right;\">\n",
              "      <th></th>\n",
              "      <th>PassengerId</th>\n",
              "      <th>Survived</th>\n",
              "      <th>Pclass</th>\n",
              "      <th>Name</th>\n",
              "      <th>Sex</th>\n",
              "      <th>Age</th>\n",
              "      <th>SibSp</th>\n",
              "      <th>Parch</th>\n",
              "      <th>Ticket</th>\n",
              "      <th>Fare</th>\n",
              "      <th>Cabin</th>\n",
              "      <th>Embarked</th>\n",
              "      <th>familyCount</th>\n",
              "    </tr>\n",
              "  </thead>\n",
              "  <tbody>\n",
              "    <tr>\n",
              "      <th>0</th>\n",
              "      <td>1</td>\n",
              "      <td>0</td>\n",
              "      <td>3</td>\n",
              "      <td>Braund, Mr. Owen Harris</td>\n",
              "      <td>male</td>\n",
              "      <td>22.0</td>\n",
              "      <td>1</td>\n",
              "      <td>0</td>\n",
              "      <td>A/5 21171</td>\n",
              "      <td>7.2500</td>\n",
              "      <td>Unknown</td>\n",
              "      <td>S</td>\n",
              "      <td>2</td>\n",
              "    </tr>\n",
              "    <tr>\n",
              "      <th>1</th>\n",
              "      <td>2</td>\n",
              "      <td>1</td>\n",
              "      <td>1</td>\n",
              "      <td>Cumings, Mrs. John Bradley (Florence Briggs Th...</td>\n",
              "      <td>female</td>\n",
              "      <td>38.0</td>\n",
              "      <td>1</td>\n",
              "      <td>0</td>\n",
              "      <td>PC 17599</td>\n",
              "      <td>71.2833</td>\n",
              "      <td>C85</td>\n",
              "      <td>C</td>\n",
              "      <td>2</td>\n",
              "    </tr>\n",
              "    <tr>\n",
              "      <th>2</th>\n",
              "      <td>3</td>\n",
              "      <td>1</td>\n",
              "      <td>3</td>\n",
              "      <td>Heikkinen, Miss. Laina</td>\n",
              "      <td>female</td>\n",
              "      <td>26.0</td>\n",
              "      <td>0</td>\n",
              "      <td>0</td>\n",
              "      <td>STON/O2. 3101282</td>\n",
              "      <td>7.9250</td>\n",
              "      <td>Unknown</td>\n",
              "      <td>S</td>\n",
              "      <td>1</td>\n",
              "    </tr>\n",
              "    <tr>\n",
              "      <th>3</th>\n",
              "      <td>4</td>\n",
              "      <td>1</td>\n",
              "      <td>1</td>\n",
              "      <td>Futrelle, Mrs. Jacques Heath (Lily May Peel)</td>\n",
              "      <td>female</td>\n",
              "      <td>35.0</td>\n",
              "      <td>1</td>\n",
              "      <td>0</td>\n",
              "      <td>113803</td>\n",
              "      <td>53.1000</td>\n",
              "      <td>C123</td>\n",
              "      <td>S</td>\n",
              "      <td>2</td>\n",
              "    </tr>\n",
              "    <tr>\n",
              "      <th>4</th>\n",
              "      <td>5</td>\n",
              "      <td>0</td>\n",
              "      <td>3</td>\n",
              "      <td>Allen, Mr. William Henry</td>\n",
              "      <td>male</td>\n",
              "      <td>35.0</td>\n",
              "      <td>0</td>\n",
              "      <td>0</td>\n",
              "      <td>373450</td>\n",
              "      <td>8.0500</td>\n",
              "      <td>Unknown</td>\n",
              "      <td>S</td>\n",
              "      <td>1</td>\n",
              "    </tr>\n",
              "  </tbody>\n",
              "</table>\n",
              "</div>\n",
              "    <div class=\"colab-df-buttons\">\n",
              "\n",
              "  <div class=\"colab-df-container\">\n",
              "    <button class=\"colab-df-convert\" onclick=\"convertToInteractive('df-8ab8bd75-c5c6-4ef6-8842-7c27dc0bb833')\"\n",
              "            title=\"Convert this dataframe to an interactive table.\"\n",
              "            style=\"display:none;\">\n",
              "\n",
              "  <svg xmlns=\"http://www.w3.org/2000/svg\" height=\"24px\" viewBox=\"0 -960 960 960\">\n",
              "    <path d=\"M120-120v-720h720v720H120Zm60-500h600v-160H180v160Zm220 220h160v-160H400v160Zm0 220h160v-160H400v160ZM180-400h160v-160H180v160Zm440 0h160v-160H620v160ZM180-180h160v-160H180v160Zm440 0h160v-160H620v160Z\"/>\n",
              "  </svg>\n",
              "    </button>\n",
              "\n",
              "  <style>\n",
              "    .colab-df-container {\n",
              "      display:flex;\n",
              "      gap: 12px;\n",
              "    }\n",
              "\n",
              "    .colab-df-convert {\n",
              "      background-color: #E8F0FE;\n",
              "      border: none;\n",
              "      border-radius: 50%;\n",
              "      cursor: pointer;\n",
              "      display: none;\n",
              "      fill: #1967D2;\n",
              "      height: 32px;\n",
              "      padding: 0 0 0 0;\n",
              "      width: 32px;\n",
              "    }\n",
              "\n",
              "    .colab-df-convert:hover {\n",
              "      background-color: #E2EBFA;\n",
              "      box-shadow: 0px 1px 2px rgba(60, 64, 67, 0.3), 0px 1px 3px 1px rgba(60, 64, 67, 0.15);\n",
              "      fill: #174EA6;\n",
              "    }\n",
              "\n",
              "    .colab-df-buttons div {\n",
              "      margin-bottom: 4px;\n",
              "    }\n",
              "\n",
              "    [theme=dark] .colab-df-convert {\n",
              "      background-color: #3B4455;\n",
              "      fill: #D2E3FC;\n",
              "    }\n",
              "\n",
              "    [theme=dark] .colab-df-convert:hover {\n",
              "      background-color: #434B5C;\n",
              "      box-shadow: 0px 1px 3px 1px rgba(0, 0, 0, 0.15);\n",
              "      filter: drop-shadow(0px 1px 2px rgba(0, 0, 0, 0.3));\n",
              "      fill: #FFFFFF;\n",
              "    }\n",
              "  </style>\n",
              "\n",
              "    <script>\n",
              "      const buttonEl =\n",
              "        document.querySelector('#df-8ab8bd75-c5c6-4ef6-8842-7c27dc0bb833 button.colab-df-convert');\n",
              "      buttonEl.style.display =\n",
              "        google.colab.kernel.accessAllowed ? 'block' : 'none';\n",
              "\n",
              "      async function convertToInteractive(key) {\n",
              "        const element = document.querySelector('#df-8ab8bd75-c5c6-4ef6-8842-7c27dc0bb833');\n",
              "        const dataTable =\n",
              "          await google.colab.kernel.invokeFunction('convertToInteractive',\n",
              "                                                    [key], {});\n",
              "        if (!dataTable) return;\n",
              "\n",
              "        const docLinkHtml = 'Like what you see? Visit the ' +\n",
              "          '<a target=\"_blank\" href=https://colab.research.google.com/notebooks/data_table.ipynb>data table notebook</a>'\n",
              "          + ' to learn more about interactive tables.';\n",
              "        element.innerHTML = '';\n",
              "        dataTable['output_type'] = 'display_data';\n",
              "        await google.colab.output.renderOutput(dataTable, element);\n",
              "        const docLink = document.createElement('div');\n",
              "        docLink.innerHTML = docLinkHtml;\n",
              "        element.appendChild(docLink);\n",
              "      }\n",
              "    </script>\n",
              "  </div>\n",
              "\n",
              "\n",
              "<div id=\"df-aa299270-c2b7-4a0f-a50b-e6b2578db4f0\">\n",
              "  <button class=\"colab-df-quickchart\" onclick=\"quickchart('df-aa299270-c2b7-4a0f-a50b-e6b2578db4f0')\"\n",
              "            title=\"Suggest charts\"\n",
              "            style=\"display:none;\">\n",
              "\n",
              "<svg xmlns=\"http://www.w3.org/2000/svg\" height=\"24px\"viewBox=\"0 0 24 24\"\n",
              "     width=\"24px\">\n",
              "    <g>\n",
              "        <path d=\"M19 3H5c-1.1 0-2 .9-2 2v14c0 1.1.9 2 2 2h14c1.1 0 2-.9 2-2V5c0-1.1-.9-2-2-2zM9 17H7v-7h2v7zm4 0h-2V7h2v10zm4 0h-2v-4h2v4z\"/>\n",
              "    </g>\n",
              "</svg>\n",
              "  </button>\n",
              "\n",
              "<style>\n",
              "  .colab-df-quickchart {\n",
              "      --bg-color: #E8F0FE;\n",
              "      --fill-color: #1967D2;\n",
              "      --hover-bg-color: #E2EBFA;\n",
              "      --hover-fill-color: #174EA6;\n",
              "      --disabled-fill-color: #AAA;\n",
              "      --disabled-bg-color: #DDD;\n",
              "  }\n",
              "\n",
              "  [theme=dark] .colab-df-quickchart {\n",
              "      --bg-color: #3B4455;\n",
              "      --fill-color: #D2E3FC;\n",
              "      --hover-bg-color: #434B5C;\n",
              "      --hover-fill-color: #FFFFFF;\n",
              "      --disabled-bg-color: #3B4455;\n",
              "      --disabled-fill-color: #666;\n",
              "  }\n",
              "\n",
              "  .colab-df-quickchart {\n",
              "    background-color: var(--bg-color);\n",
              "    border: none;\n",
              "    border-radius: 50%;\n",
              "    cursor: pointer;\n",
              "    display: none;\n",
              "    fill: var(--fill-color);\n",
              "    height: 32px;\n",
              "    padding: 0;\n",
              "    width: 32px;\n",
              "  }\n",
              "\n",
              "  .colab-df-quickchart:hover {\n",
              "    background-color: var(--hover-bg-color);\n",
              "    box-shadow: 0 1px 2px rgba(60, 64, 67, 0.3), 0 1px 3px 1px rgba(60, 64, 67, 0.15);\n",
              "    fill: var(--button-hover-fill-color);\n",
              "  }\n",
              "\n",
              "  .colab-df-quickchart-complete:disabled,\n",
              "  .colab-df-quickchart-complete:disabled:hover {\n",
              "    background-color: var(--disabled-bg-color);\n",
              "    fill: var(--disabled-fill-color);\n",
              "    box-shadow: none;\n",
              "  }\n",
              "\n",
              "  .colab-df-spinner {\n",
              "    border: 2px solid var(--fill-color);\n",
              "    border-color: transparent;\n",
              "    border-bottom-color: var(--fill-color);\n",
              "    animation:\n",
              "      spin 1s steps(1) infinite;\n",
              "  }\n",
              "\n",
              "  @keyframes spin {\n",
              "    0% {\n",
              "      border-color: transparent;\n",
              "      border-bottom-color: var(--fill-color);\n",
              "      border-left-color: var(--fill-color);\n",
              "    }\n",
              "    20% {\n",
              "      border-color: transparent;\n",
              "      border-left-color: var(--fill-color);\n",
              "      border-top-color: var(--fill-color);\n",
              "    }\n",
              "    30% {\n",
              "      border-color: transparent;\n",
              "      border-left-color: var(--fill-color);\n",
              "      border-top-color: var(--fill-color);\n",
              "      border-right-color: var(--fill-color);\n",
              "    }\n",
              "    40% {\n",
              "      border-color: transparent;\n",
              "      border-right-color: var(--fill-color);\n",
              "      border-top-color: var(--fill-color);\n",
              "    }\n",
              "    60% {\n",
              "      border-color: transparent;\n",
              "      border-right-color: var(--fill-color);\n",
              "    }\n",
              "    80% {\n",
              "      border-color: transparent;\n",
              "      border-right-color: var(--fill-color);\n",
              "      border-bottom-color: var(--fill-color);\n",
              "    }\n",
              "    90% {\n",
              "      border-color: transparent;\n",
              "      border-bottom-color: var(--fill-color);\n",
              "    }\n",
              "  }\n",
              "</style>\n",
              "\n",
              "  <script>\n",
              "    async function quickchart(key) {\n",
              "      const quickchartButtonEl =\n",
              "        document.querySelector('#' + key + ' button');\n",
              "      quickchartButtonEl.disabled = true;  // To prevent multiple clicks.\n",
              "      quickchartButtonEl.classList.add('colab-df-spinner');\n",
              "      try {\n",
              "        const charts = await google.colab.kernel.invokeFunction(\n",
              "            'suggestCharts', [key], {});\n",
              "      } catch (error) {\n",
              "        console.error('Error during call to suggestCharts:', error);\n",
              "      }\n",
              "      quickchartButtonEl.classList.remove('colab-df-spinner');\n",
              "      quickchartButtonEl.classList.add('colab-df-quickchart-complete');\n",
              "    }\n",
              "    (() => {\n",
              "      let quickchartButtonEl =\n",
              "        document.querySelector('#df-aa299270-c2b7-4a0f-a50b-e6b2578db4f0 button');\n",
              "      quickchartButtonEl.style.display =\n",
              "        google.colab.kernel.accessAllowed ? 'block' : 'none';\n",
              "    })();\n",
              "  </script>\n",
              "</div>\n",
              "\n",
              "    </div>\n",
              "  </div>\n"
            ],
            "application/vnd.google.colaboratory.intrinsic+json": {
              "type": "dataframe",
              "variable_name": "data",
              "summary": "{\n  \"name\": \"data\",\n  \"rows\": 891,\n  \"fields\": [\n    {\n      \"column\": \"PassengerId\",\n      \"properties\": {\n        \"dtype\": \"number\",\n        \"std\": 257,\n        \"min\": 1,\n        \"max\": 891,\n        \"num_unique_values\": 891,\n        \"samples\": [\n          710,\n          440,\n          841\n        ],\n        \"semantic_type\": \"\",\n        \"description\": \"\"\n      }\n    },\n    {\n      \"column\": \"Survived\",\n      \"properties\": {\n        \"dtype\": \"number\",\n        \"std\": 0,\n        \"min\": 0,\n        \"max\": 1,\n        \"num_unique_values\": 2,\n        \"samples\": [\n          1,\n          0\n        ],\n        \"semantic_type\": \"\",\n        \"description\": \"\"\n      }\n    },\n    {\n      \"column\": \"Pclass\",\n      \"properties\": {\n        \"dtype\": \"number\",\n        \"std\": 0,\n        \"min\": 1,\n        \"max\": 3,\n        \"num_unique_values\": 3,\n        \"samples\": [\n          3,\n          1\n        ],\n        \"semantic_type\": \"\",\n        \"description\": \"\"\n      }\n    },\n    {\n      \"column\": \"Name\",\n      \"properties\": {\n        \"dtype\": \"string\",\n        \"num_unique_values\": 891,\n        \"samples\": [\n          \"Moubarek, Master. Halim Gonios (\\\"William George\\\")\",\n          \"Kvillner, Mr. Johan Henrik Johannesson\"\n        ],\n        \"semantic_type\": \"\",\n        \"description\": \"\"\n      }\n    },\n    {\n      \"column\": \"Sex\",\n      \"properties\": {\n        \"dtype\": \"category\",\n        \"num_unique_values\": 2,\n        \"samples\": [\n          \"female\",\n          \"male\"\n        ],\n        \"semantic_type\": \"\",\n        \"description\": \"\"\n      }\n    },\n    {\n      \"column\": \"Age\",\n      \"properties\": {\n        \"dtype\": \"number\",\n        \"std\": 13.019696550973194,\n        \"min\": 0.42,\n        \"max\": 80.0,\n        \"num_unique_values\": 88,\n        \"samples\": [\n          0.75,\n          22.0\n        ],\n        \"semantic_type\": \"\",\n        \"description\": \"\"\n      }\n    },\n    {\n      \"column\": \"SibSp\",\n      \"properties\": {\n        \"dtype\": \"number\",\n        \"std\": 1,\n        \"min\": 0,\n        \"max\": 8,\n        \"num_unique_values\": 7,\n        \"samples\": [\n          1,\n          0\n        ],\n        \"semantic_type\": \"\",\n        \"description\": \"\"\n      }\n    },\n    {\n      \"column\": \"Parch\",\n      \"properties\": {\n        \"dtype\": \"number\",\n        \"std\": 0,\n        \"min\": 0,\n        \"max\": 6,\n        \"num_unique_values\": 7,\n        \"samples\": [\n          0,\n          1\n        ],\n        \"semantic_type\": \"\",\n        \"description\": \"\"\n      }\n    },\n    {\n      \"column\": \"Ticket\",\n      \"properties\": {\n        \"dtype\": \"string\",\n        \"num_unique_values\": 681,\n        \"samples\": [\n          \"11774\",\n          \"248740\"\n        ],\n        \"semantic_type\": \"\",\n        \"description\": \"\"\n      }\n    },\n    {\n      \"column\": \"Fare\",\n      \"properties\": {\n        \"dtype\": \"number\",\n        \"std\": 49.693428597180905,\n        \"min\": 0.0,\n        \"max\": 512.3292,\n        \"num_unique_values\": 248,\n        \"samples\": [\n          11.2417,\n          51.8625\n        ],\n        \"semantic_type\": \"\",\n        \"description\": \"\"\n      }\n    },\n    {\n      \"column\": \"Cabin\",\n      \"properties\": {\n        \"dtype\": \"category\",\n        \"num_unique_values\": 148,\n        \"samples\": [\n          \"B101\",\n          \"A19\"\n        ],\n        \"semantic_type\": \"\",\n        \"description\": \"\"\n      }\n    },\n    {\n      \"column\": \"Embarked\",\n      \"properties\": {\n        \"dtype\": \"category\",\n        \"num_unique_values\": 3,\n        \"samples\": [\n          \"S\",\n          \"C\"\n        ],\n        \"semantic_type\": \"\",\n        \"description\": \"\"\n      }\n    },\n    {\n      \"column\": \"familyCount\",\n      \"properties\": {\n        \"dtype\": \"number\",\n        \"std\": 1,\n        \"min\": 1,\n        \"max\": 11,\n        \"num_unique_values\": 9,\n        \"samples\": [\n          8,\n          1\n        ],\n        \"semantic_type\": \"\",\n        \"description\": \"\"\n      }\n    }\n  ]\n}"
            }
          },
          "metadata": {},
          "execution_count": 116
        }
      ],
      "source": [
        "#New feature \"familyCount\" shows the famyly size including siblings, spouses, parents and children and the passenger itself\n",
        "data[\"familyCount\"] = data[\"SibSp\"] + data[\"Parch\"] + 1\n",
        "\n",
        "data.head()"
      ]
    },
    {
      "cell_type": "markdown",
      "source": [
        "This feature could be useful to analyze survival chances based on the social behavior."
      ],
      "metadata": {
        "id": "8aI881IvTCEe"
      }
    },
    {
      "cell_type": "markdown",
      "metadata": {
        "id": "0oQGh1-qJd3x"
      },
      "source": [
        "### 13"
      ]
    },
    {
      "cell_type": "markdown",
      "metadata": {
        "id": "0cF7OwH8Jd3x"
      },
      "source": [
        "Now come up with your own feature that can be useful for analysis (carries some information), and add it to the table. Be sure to give reasons why your feature is useful."
      ]
    },
    {
      "cell_type": "markdown",
      "source": [
        "**I would add a new feature \"HasChild\", which identifies whether a passenger was traveling with at least one child (age < 18) on the same ticket.**"
      ],
      "metadata": {
        "id": "lIo5V5hUUgSX"
      }
    },
    {
      "cell_type": "code",
      "execution_count": null,
      "metadata": {
        "collapsed": true,
        "id": "xZ4zS5qzJd3x",
        "colab": {
          "base_uri": "https://localhost:8080/",
          "height": 487
        },
        "outputId": "1a67da59-8e8f-4622-9f47-e57f0f31954f"
      },
      "outputs": [
        {
          "output_type": "display_data",
          "data": {
            "text/plain": [
              "<Figure size 800x500 with 1 Axes>"
            ],
            "image/png": "[encoded data removed]"
          },
          "metadata": {}
        }
      ],
      "source": [
        "#Create a \"HasChild\" feature (1 if traveling with at least one child, 0 - otherwise)\n",
        "data[\"HasChild\"] = data.groupby(\"Ticket\")[\"Age\"].transform(lambda x: (x < 18).any()).astype(int)\n",
        "\n",
        "#Survival rates for this type of passengers\n",
        "child_survival_rates = data.groupby(\"HasChild\")[\"Survived\"].mean() * 100\n",
        "\n",
        "# Plot the survival rates\n",
        "plt.figure(figsize=(8, 5))\n",
        "sns.barplot(\n",
        "    x=child_survival_rates.index,\n",
        "    y=child_survival_rates.values,\n",
        "    hue=child_survival_rates.index,\n",
        "    palette=[\"red\", \"green\"],\n",
        "    legend=False\n",
        ")\n",
        "plt.xticks([0, 1], [\"No children\", \"Has child\"])\n",
        "plt.xlabel(\"Traveling with a child\")\n",
        "plt.ylabel(\"Survival Rate (%)\")\n",
        "plt.title(\"Survival rate based on traveling with a child\")\n",
        "\n",
        "plt.ylim(0, 100)\n",
        "plt.grid(axis=\"y\")\n",
        "\n",
        "plt.show()"
      ]
    },
    {
      "cell_type": "markdown",
      "source": [
        "**It is visible that passengers wich at least one child had more chances to survive.**"
      ],
      "metadata": {
        "id": "vWF3u701Wszb"
      }
    },
    {
      "cell_type": "markdown",
      "metadata": {
        "id": "v3DjKVAlZKgk"
      },
      "source": [
        "### 14"
      ]
    },
    {
      "cell_type": "markdown",
      "metadata": {
        "id": "CJrnBovsZKgk"
      },
      "source": [
        "Come up with some interesting task to analyze the proposed data and solve it.\n",
        "\n",
        "Creativity is appreciated in this task and may earn you 1-2 bonus points!\n",
        "\n",
        "*Clue. For example, what was the most popular surname on the ship? (It’s better not to use this example, so come up with something of your own)*"
      ]
    },
    {
      "cell_type": "markdown",
      "source": [
        "I would check if third-class passengers had more children than second- and first-class passengers."
      ],
      "metadata": {
        "id": "vFqHkOZEZ5v2"
      }
    },
    {
      "cell_type": "code",
      "execution_count": null,
      "metadata": {
        "collapsed": true,
        "id": "-7TpyG0RZKgl",
        "colab": {
          "base_uri": "https://localhost:8080/",
          "height": 487
        },
        "outputId": "88685daa-a184-43e2-e1c4-45415e25e167"
      },
      "outputs": [
        {
          "output_type": "display_data",
          "data": {
            "text/plain": [
              "<Figure size 800x500 with 1 Axes>"
            ],
            "image/png": "[encoded data removed]"
          },
          "metadata": {}
        }
      ],
      "source": [
        "#Count the number of children in the each class\n",
        "children_by_class = data[data[\"Age\"] < 18].groupby(\"Pclass\")[\"PassengerId\"].count()\n",
        "\n",
        "children_by_class_df = children_by_class.reset_index()\n",
        "\n",
        "# Plot results\n",
        "plt.figure(figsize=(8, 5))\n",
        "sns.barplot(\n",
        "    x=\"Pclass\",\n",
        "    y=\"PassengerId\",\n",
        "    hue=\"Pclass\",\n",
        "    data=children_by_class_df,\n",
        "    palette=\"coolwarm\",\n",
        "    legend=False\n",
        ")\n",
        "\n",
        "plt.xlabel(\"Passenger Class\")\n",
        "plt.ylabel(\"Number of Children\")\n",
        "plt.title(\"Number of children in each passenger class\")\n",
        "plt.grid(axis=\"y\")\n",
        "\n",
        "plt.show()"
      ]
    },
    {
      "cell_type": "markdown",
      "source": [
        "**Indeed, third class has the most children, followed by second and first class.**"
      ],
      "metadata": {
        "id": "uZ7pFXYsbA-7"
      }
    },
    {
      "cell_type": "markdown",
      "metadata": {
        "id": "_OotyU0HZKgl"
      },
      "source": [
        "### 15"
      ]
    },
    {
      "cell_type": "markdown",
      "metadata": {
        "id": "_AKVG-9VZKgl"
      },
      "source": [
        "Construct histograms of the distribution of **numerical** features. Is there any difference between them? How could this be bad from a data analytics perspective and from a machine learning perspective? Normalize the numerical features and see how the situation has changed. What conclusions can be drawn from this?\n",
        "\n",
        "The depth of answering the theoretical questions in this assignment is appreciated and may earn you 1-2 bonus points!"
      ]
    },
    {
      "cell_type": "code",
      "execution_count": null,
      "metadata": {
        "collapsed": true,
        "id": "J3KEuS8pZKgl",
        "colab": {
          "base_uri": "https://localhost:8080/",
          "height": 607
        },
        "outputId": "7ae5d48b-7fbf-45f6-ca05-c629e110da73"
      },
      "outputs": [
        {
          "output_type": "display_data",
          "data": {
            "text/plain": [
              "<Figure size 1200x800 with 2 Axes>"
            ],
            "image/png": "[encoded data removed]"
          },
          "metadata": {}
        },
        {
          "output_type": "display_data",
          "data": {
            "text/plain": [
              "<Figure size 1200x800 with 2 Axes>"
            ],
            "image/png": "[encoded data removed]"
          },
          "metadata": {}
        }
      ],
      "source": [
        "from sklearn.preprocessing import MinMaxScaler\n",
        "\n",
        "numerical_features = [\"Fare\", \"Age\"]\n",
        "\n",
        "# Before the normalization\n",
        "plt.figure(figsize=(12, 8))\n",
        "for i, feature in enumerate(numerical_features, 1):\n",
        "    plt.subplot(3, 3, i)\n",
        "    sns.histplot(\n",
        "        data[feature].dropna(),\n",
        "        kde=True,\n",
        "        bins=40,\n",
        "        color=\"orange\"\n",
        "    )\n",
        "    plt.title(f\"Distribution of {feature}\")\n",
        "plt.tight_layout()\n",
        "\n",
        "plt.show()\n",
        "\n",
        "# Normalization\n",
        "scaler = MinMaxScaler()\n",
        "data_normalized = data.copy()\n",
        "data_normalized[numerical_features] = scaler.fit_transform(data[numerical_features])\n",
        "\n",
        "# Adter the normalization\n",
        "plt.figure(figsize=(12, 8))\n",
        "for i, feature in enumerate(numerical_features, 1):\n",
        "    plt.subplot(3, 3, i)\n",
        "    sns.histplot(\n",
        "        data_normalized[feature].dropna(),\n",
        "        kde=True,\n",
        "        bins=40,\n",
        "        color=\"blue\"\n",
        "    )\n",
        "    plt.title(f\"Normalized {feature}\")\n",
        "plt.tight_layout()\n",
        "\n",
        "plt.show()\n",
        "\n",
        "data = data_normalized\n"
      ]
    },
    {
      "cell_type": "markdown",
      "source": [
        "How does it look before normalization:\n",
        "- **Fare** is highly right-skewed (values range from 0 to 500)\n",
        "- **Age** has a strong peak around 23-24 years old\n",
        "\n",
        "Many machine learning models (e.g., Linear Regression, Logistic Regression, LDA, PCA) work better when features follow a normal distribution.\n",
        "\n",
        "How does it look after normalization:\n",
        "- Now both **Fare** and **Age** are in the range [0,1]\n",
        "- **Fare** is still highly right-skewed\n",
        "\n",
        "Normalization helps ensure that both features contribute equally to ML models. Without it, ML models would give more weight to **Fare** because it has a bigger range than **Age**. But we also see that **Fare** is still highly right-skewed even after the normalization."
      ],
      "metadata": {
        "id": "CzybnCbgKgHi"
      }
    },
    {
      "cell_type": "markdown",
      "metadata": {
        "id": "XlDxz7oNZKgl"
      },
      "source": [
        "### 16"
      ]
    },
    {
      "cell_type": "markdown",
      "metadata": {
        "id": "cWu51pYuZKgm"
      },
      "source": [
        "Are there any categorical features in the data that take string values ​​rather than numbers? If so, this could be a serious problem for many algorithms, so encode the categorical features so that any algorithm can be applied to the data."
      ]
    },
    {
      "cell_type": "markdown",
      "source": [
        "The categorical features are:\n",
        "*   Sex (Male, Female)\n",
        "*   Embarked (S, C, Q)"
      ],
      "metadata": {
        "id": "vBOaeuePOc8h"
      }
    },
    {
      "cell_type": "code",
      "execution_count": null,
      "metadata": {
        "collapsed": true,
        "id": "KlP_Pz31ZKgm",
        "colab": {
          "base_uri": "https://localhost:8080/",
          "height": 258
        },
        "outputId": "21cd8156-dbb8-4ca5-dd22-170c81177cef"
      },
      "outputs": [
        {
          "output_type": "execute_result",
          "data": {
            "text/plain": [
              "   PassengerId  Survived  Pclass  \\\n",
              "0            1         0       3   \n",
              "1            2         1       1   \n",
              "2            3         1       3   \n",
              "3            4         1       1   \n",
              "4            5         0       3   \n",
              "\n",
              "                                                Name  Sex       Age  SibSp  \\\n",
              "0                            Braund, Mr. Owen Harris    1  0.271174      1   \n",
              "1  Cumings, Mrs. John Bradley (Florence Briggs Th...    0  0.472229      1   \n",
              "2                             Heikkinen, Miss. Laina    0  0.321438      0   \n",
              "3       Futrelle, Mrs. Jacques Heath (Lily May Peel)    0  0.434531      1   \n",
              "4                           Allen, Mr. William Henry    1  0.434531      0   \n",
              "\n",
              "   Parch            Ticket      Fare    Cabin  Embarked  familyCount  HasChild  \n",
              "0      0         A/5 21171  0.014151  Unknown         0            2         0  \n",
              "1      0          PC 17599  0.139136      C85         2            2         0  \n",
              "2      0  STON/O2. 3101282  0.015469  Unknown         0            1         0  \n",
              "3      0            113803  0.103644     C123         0            2         0  \n",
              "4      0            373450  0.015713  Unknown         0            1         0  "
            ],
            "text/html": [
              "\n",
              "  <div id=\"df-f3f582d7-c8b7-4e0f-a7e7-445fe47d5486\" class=\"colab-df-container\">\n",
              "    <div>\n",
              "<style scoped>\n",
              "    .dataframe tbody tr th:only-of-type {\n",
              "        vertical-align: middle;\n",
              "    }\n",
              "\n",
              "    .dataframe tbody tr th {\n",
              "        vertical-align: top;\n",
              "    }\n",
              "\n",
              "    .dataframe thead th {\n",
              "        text-align: right;\n",
              "    }\n",
              "</style>\n",
              "<table border=\"1\" class=\"dataframe\">\n",
              "  <thead>\n",
              "    <tr style=\"text-align: right;\">\n",
              "      <th></th>\n",
              "      <th>PassengerId</th>\n",
              "      <th>Survived</th>\n",
              "      <th>Pclass</th>\n",
              "      <th>Name</th>\n",
              "      <th>Sex</th>\n",
              "      <th>Age</th>\n",
              "      <th>SibSp</th>\n",
              "      <th>Parch</th>\n",
              "      <th>Ticket</th>\n",
              "      <th>Fare</th>\n",
              "      <th>Cabin</th>\n",
              "      <th>Embarked</th>\n",
              "      <th>familyCount</th>\n",
              "      <th>HasChild</th>\n",
              "    </tr>\n",
              "  </thead>\n",
              "  <tbody>\n",
              "    <tr>\n",
              "      <th>0</th>\n",
              "      <td>1</td>\n",
              "      <td>0</td>\n",
              "      <td>3</td>\n",
              "      <td>Braund, Mr. Owen Harris</td>\n",
              "      <td>1</td>\n",
              "      <td>0.271174</td>\n",
              "      <td>1</td>\n",
              "      <td>0</td>\n",
              "      <td>A/5 21171</td>\n",
              "      <td>0.014151</td>\n",
              "      <td>Unknown</td>\n",
              "      <td>0</td>\n",
              "      <td>2</td>\n",
              "      <td>0</td>\n",
              "    </tr>\n",
              "    <tr>\n",
              "      <th>1</th>\n",
              "      <td>2</td>\n",
              "      <td>1</td>\n",
              "      <td>1</td>\n",
              "      <td>Cumings, Mrs. John Bradley (Florence Briggs Th...</td>\n",
              "      <td>0</td>\n",
              "      <td>0.472229</td>\n",
              "      <td>1</td>\n",
              "      <td>0</td>\n",
              "      <td>PC 17599</td>\n",
              "      <td>0.139136</td>\n",
              "      <td>C85</td>\n",
              "      <td>2</td>\n",
              "      <td>2</td>\n",
              "      <td>0</td>\n",
              "    </tr>\n",
              "    <tr>\n",
              "      <th>2</th>\n",
              "      <td>3</td>\n",
              "      <td>1</td>\n",
              "      <td>3</td>\n",
              "      <td>Heikkinen, Miss. Laina</td>\n",
              "      <td>0</td>\n",
              "      <td>0.321438</td>\n",
              "      <td>0</td>\n",
              "      <td>0</td>\n",
              "      <td>STON/O2. 3101282</td>\n",
              "      <td>0.015469</td>\n",
              "      <td>Unknown</td>\n",
              "      <td>0</td>\n",
              "      <td>1</td>\n",
              "      <td>0</td>\n",
              "    </tr>\n",
              "    <tr>\n",
              "      <th>3</th>\n",
              "      <td>4</td>\n",
              "      <td>1</td>\n",
              "      <td>1</td>\n",
              "      <td>Futrelle, Mrs. Jacques Heath (Lily May Peel)</td>\n",
              "      <td>0</td>\n",
              "      <td>0.434531</td>\n",
              "      <td>1</td>\n",
              "      <td>0</td>\n",
              "      <td>113803</td>\n",
              "      <td>0.103644</td>\n",
              "      <td>C123</td>\n",
              "      <td>0</td>\n",
              "      <td>2</td>\n",
              "      <td>0</td>\n",
              "    </tr>\n",
              "    <tr>\n",
              "      <th>4</th>\n",
              "      <td>5</td>\n",
              "      <td>0</td>\n",
              "      <td>3</td>\n",
              "      <td>Allen, Mr. William Henry</td>\n",
              "      <td>1</td>\n",
              "      <td>0.434531</td>\n",
              "      <td>0</td>\n",
              "      <td>0</td>\n",
              "      <td>373450</td>\n",
              "      <td>0.015713</td>\n",
              "      <td>Unknown</td>\n",
              "      <td>0</td>\n",
              "      <td>1</td>\n",
              "      <td>0</td>\n",
              "    </tr>\n",
              "  </tbody>\n",
              "</table>\n",
              "</div>\n",
              "    <div class=\"colab-df-buttons\">\n",
              "\n",
              "  <div class=\"colab-df-container\">\n",
              "    <button class=\"colab-df-convert\" onclick=\"convertToInteractive('df-f3f582d7-c8b7-4e0f-a7e7-445fe47d5486')\"\n",
              "            title=\"Convert this dataframe to an interactive table.\"\n",
              "            style=\"display:none;\">\n",
              "\n",
              "  <svg xmlns=\"http://www.w3.org/2000/svg\" height=\"24px\" viewBox=\"0 -960 960 960\">\n",
              "    <path d=\"M120-120v-720h720v720H120Zm60-500h600v-160H180v160Zm220 220h160v-160H400v160Zm0 220h160v-160H400v160ZM180-400h160v-160H180v160Zm440 0h160v-160H620v160ZM180-180h160v-160H180v160Zm440 0h160v-160H620v160Z\"/>\n",
              "  </svg>\n",
              "    </button>\n",
              "\n",
              "  <style>\n",
              "    .colab-df-container {\n",
              "      display:flex;\n",
              "      gap: 12px;\n",
              "    }\n",
              "\n",
              "    .colab-df-convert {\n",
              "      background-color: #E8F0FE;\n",
              "      border: none;\n",
              "      border-radius: 50%;\n",
              "      cursor: pointer;\n",
              "      display: none;\n",
              "      fill: #1967D2;\n",
              "      height: 32px;\n",
              "      padding: 0 0 0 0;\n",
              "      width: 32px;\n",
              "    }\n",
              "\n",
              "    .colab-df-convert:hover {\n",
              "      background-color: #E2EBFA;\n",
              "      box-shadow: 0px 1px 2px rgba(60, 64, 67, 0.3), 0px 1px 3px 1px rgba(60, 64, 67, 0.15);\n",
              "      fill: #174EA6;\n",
              "    }\n",
              "\n",
              "    .colab-df-buttons div {\n",
              "      margin-bottom: 4px;\n",
              "    }\n",
              "\n",
              "    [theme=dark] .colab-df-convert {\n",
              "      background-color: #3B4455;\n",
              "      fill: #D2E3FC;\n",
              "    }\n",
              "\n",
              "    [theme=dark] .colab-df-convert:hover {\n",
              "      background-color: #434B5C;\n",
              "      box-shadow: 0px 1px 3px 1px rgba(0, 0, 0, 0.15);\n",
              "      filter: drop-shadow(0px 1px 2px rgba(0, 0, 0, 0.3));\n",
              "      fill: #FFFFFF;\n",
              "    }\n",
              "  </style>\n",
              "\n",
              "    <script>\n",
              "      const buttonEl =\n",
              "        document.querySelector('#df-f3f582d7-c8b7-4e0f-a7e7-445fe47d5486 button.colab-df-convert');\n",
              "      buttonEl.style.display =\n",
              "        google.colab.kernel.accessAllowed ? 'block' : 'none';\n",
              "\n",
              "      async function convertToInteractive(key) {\n",
              "        const element = document.querySelector('#df-f3f582d7-c8b7-4e0f-a7e7-445fe47d5486');\n",
              "        const dataTable =\n",
              "          await google.colab.kernel.invokeFunction('convertToInteractive',\n",
              "                                                    [key], {});\n",
              "        if (!dataTable) return;\n",
              "\n",
              "        const docLinkHtml = 'Like what you see? Visit the ' +\n",
              "          '<a target=\"_blank\" href=https://colab.research.google.com/notebooks/data_table.ipynb>data table notebook</a>'\n",
              "          + ' to learn more about interactive tables.';\n",
              "        element.innerHTML = '';\n",
              "        dataTable['output_type'] = 'display_data';\n",
              "        await google.colab.output.renderOutput(dataTable, element);\n",
              "        const docLink = document.createElement('div');\n",
              "        docLink.innerHTML = docLinkHtml;\n",
              "        element.appendChild(docLink);\n",
              "      }\n",
              "    </script>\n",
              "  </div>\n",
              "\n",
              "\n",
              "<div id=\"df-3db1751d-82a6-4ab7-af41-1120d58b10d5\">\n",
              "  <button class=\"colab-df-quickchart\" onclick=\"quickchart('df-3db1751d-82a6-4ab7-af41-1120d58b10d5')\"\n",
              "            title=\"Suggest charts\"\n",
              "            style=\"display:none;\">\n",
              "\n",
              "<svg xmlns=\"http://www.w3.org/2000/svg\" height=\"24px\"viewBox=\"0 0 24 24\"\n",
              "     width=\"24px\">\n",
              "    <g>\n",
              "        <path d=\"M19 3H5c-1.1 0-2 .9-2 2v14c0 1.1.9 2 2 2h14c1.1 0 2-.9 2-2V5c0-1.1-.9-2-2-2zM9 17H7v-7h2v7zm4 0h-2V7h2v10zm4 0h-2v-4h2v4z\"/>\n",
              "    </g>\n",
              "</svg>\n",
              "  </button>\n",
              "\n",
              "<style>\n",
              "  .colab-df-quickchart {\n",
              "      --bg-color: #E8F0FE;\n",
              "      --fill-color: #1967D2;\n",
              "      --hover-bg-color: #E2EBFA;\n",
              "      --hover-fill-color: #174EA6;\n",
              "      --disabled-fill-color: #AAA;\n",
              "      --disabled-bg-color: #DDD;\n",
              "  }\n",
              "\n",
              "  [theme=dark] .colab-df-quickchart {\n",
              "      --bg-color: #3B4455;\n",
              "      --fill-color: #D2E3FC;\n",
              "      --hover-bg-color: #434B5C;\n",
              "      --hover-fill-color: #FFFFFF;\n",
              "      --disabled-bg-color: #3B4455;\n",
              "      --disabled-fill-color: #666;\n",
              "  }\n",
              "\n",
              "  .colab-df-quickchart {\n",
              "    background-color: var(--bg-color);\n",
              "    border: none;\n",
              "    border-radius: 50%;\n",
              "    cursor: pointer;\n",
              "    display: none;\n",
              "    fill: var(--fill-color);\n",
              "    height: 32px;\n",
              "    padding: 0;\n",
              "    width: 32px;\n",
              "  }\n",
              "\n",
              "  .colab-df-quickchart:hover {\n",
              "    background-color: var(--hover-bg-color);\n",
              "    box-shadow: 0 1px 2px rgba(60, 64, 67, 0.3), 0 1px 3px 1px rgba(60, 64, 67, 0.15);\n",
              "    fill: var(--button-hover-fill-color);\n",
              "  }\n",
              "\n",
              "  .colab-df-quickchart-complete:disabled,\n",
              "  .colab-df-quickchart-complete:disabled:hover {\n",
              "    background-color: var(--disabled-bg-color);\n",
              "    fill: var(--disabled-fill-color);\n",
              "    box-shadow: none;\n",
              "  }\n",
              "\n",
              "  .colab-df-spinner {\n",
              "    border: 2px solid var(--fill-color);\n",
              "    border-color: transparent;\n",
              "    border-bottom-color: var(--fill-color);\n",
              "    animation:\n",
              "      spin 1s steps(1) infinite;\n",
              "  }\n",
              "\n",
              "  @keyframes spin {\n",
              "    0% {\n",
              "      border-color: transparent;\n",
              "      border-bottom-color: var(--fill-color);\n",
              "      border-left-color: var(--fill-color);\n",
              "    }\n",
              "    20% {\n",
              "      border-color: transparent;\n",
              "      border-left-color: var(--fill-color);\n",
              "      border-top-color: var(--fill-color);\n",
              "    }\n",
              "    30% {\n",
              "      border-color: transparent;\n",
              "      border-left-color: var(--fill-color);\n",
              "      border-top-color: var(--fill-color);\n",
              "      border-right-color: var(--fill-color);\n",
              "    }\n",
              "    40% {\n",
              "      border-color: transparent;\n",
              "      border-right-color: var(--fill-color);\n",
              "      border-top-color: var(--fill-color);\n",
              "    }\n",
              "    60% {\n",
              "      border-color: transparent;\n",
              "      border-right-color: var(--fill-color);\n",
              "    }\n",
              "    80% {\n",
              "      border-color: transparent;\n",
              "      border-right-color: var(--fill-color);\n",
              "      border-bottom-color: var(--fill-color);\n",
              "    }\n",
              "    90% {\n",
              "      border-color: transparent;\n",
              "      border-bottom-color: var(--fill-color);\n",
              "    }\n",
              "  }\n",
              "</style>\n",
              "\n",
              "  <script>\n",
              "    async function quickchart(key) {\n",
              "      const quickchartButtonEl =\n",
              "        document.querySelector('#' + key + ' button');\n",
              "      quickchartButtonEl.disabled = true;  // To prevent multiple clicks.\n",
              "      quickchartButtonEl.classList.add('colab-df-spinner');\n",
              "      try {\n",
              "        const charts = await google.colab.kernel.invokeFunction(\n",
              "            'suggestCharts', [key], {});\n",
              "      } catch (error) {\n",
              "        console.error('Error during call to suggestCharts:', error);\n",
              "      }\n",
              "      quickchartButtonEl.classList.remove('colab-df-spinner');\n",
              "      quickchartButtonEl.classList.add('colab-df-quickchart-complete');\n",
              "    }\n",
              "    (() => {\n",
              "      let quickchartButtonEl =\n",
              "        document.querySelector('#df-3db1751d-82a6-4ab7-af41-1120d58b10d5 button');\n",
              "      quickchartButtonEl.style.display =\n",
              "        google.colab.kernel.accessAllowed ? 'block' : 'none';\n",
              "    })();\n",
              "  </script>\n",
              "</div>\n",
              "\n",
              "    </div>\n",
              "  </div>\n"
            ],
            "application/vnd.google.colaboratory.intrinsic+json": {
              "type": "dataframe",
              "variable_name": "data",
              "summary": "{\n  \"name\": \"data\",\n  \"rows\": 891,\n  \"fields\": [\n    {\n      \"column\": \"PassengerId\",\n      \"properties\": {\n        \"dtype\": \"number\",\n        \"std\": 257,\n        \"min\": 1,\n        \"max\": 891,\n        \"num_unique_values\": 891,\n        \"samples\": [\n          710,\n          440,\n          841\n        ],\n        \"semantic_type\": \"\",\n        \"description\": \"\"\n      }\n    },\n    {\n      \"column\": \"Survived\",\n      \"properties\": {\n        \"dtype\": \"number\",\n        \"std\": 0,\n        \"min\": 0,\n        \"max\": 1,\n        \"num_unique_values\": 2,\n        \"samples\": [\n          1,\n          0\n        ],\n        \"semantic_type\": \"\",\n        \"description\": \"\"\n      }\n    },\n    {\n      \"column\": \"Pclass\",\n      \"properties\": {\n        \"dtype\": \"number\",\n        \"std\": 0,\n        \"min\": 1,\n        \"max\": 3,\n        \"num_unique_values\": 3,\n        \"samples\": [\n          3,\n          1\n        ],\n        \"semantic_type\": \"\",\n        \"description\": \"\"\n      }\n    },\n    {\n      \"column\": \"Name\",\n      \"properties\": {\n        \"dtype\": \"string\",\n        \"num_unique_values\": 891,\n        \"samples\": [\n          \"Moubarek, Master. Halim Gonios (\\\"William George\\\")\",\n          \"Kvillner, Mr. Johan Henrik Johannesson\"\n        ],\n        \"semantic_type\": \"\",\n        \"description\": \"\"\n      }\n    },\n    {\n      \"column\": \"Sex\",\n      \"properties\": {\n        \"dtype\": \"number\",\n        \"std\": 0,\n        \"min\": 0,\n        \"max\": 1,\n        \"num_unique_values\": 2,\n        \"samples\": [\n          0,\n          1\n        ],\n        \"semantic_type\": \"\",\n        \"description\": \"\"\n      }\n    },\n    {\n      \"column\": \"Age\",\n      \"properties\": {\n        \"dtype\": \"number\",\n        \"std\": 0.1636051338398237,\n        \"min\": 0.0,\n        \"max\": 1.0,\n        \"num_unique_values\": 88,\n        \"samples\": [\n          0.0041467705453631576,\n          0.2711736617240512\n        ],\n        \"semantic_type\": \"\",\n        \"description\": \"\"\n      }\n    },\n    {\n      \"column\": \"SibSp\",\n      \"properties\": {\n        \"dtype\": \"number\",\n        \"std\": 1,\n        \"min\": 0,\n        \"max\": 8,\n        \"num_unique_values\": 7,\n        \"samples\": [\n          1,\n          0\n        ],\n        \"semantic_type\": \"\",\n        \"description\": \"\"\n      }\n    },\n    {\n      \"column\": \"Parch\",\n      \"properties\": {\n        \"dtype\": \"number\",\n        \"std\": 0,\n        \"min\": 0,\n        \"max\": 6,\n        \"num_unique_values\": 7,\n        \"samples\": [\n          0,\n          1\n        ],\n        \"semantic_type\": \"\",\n        \"description\": \"\"\n      }\n    },\n    {\n      \"column\": \"Ticket\",\n      \"properties\": {\n        \"dtype\": \"string\",\n        \"num_unique_values\": 681,\n        \"samples\": [\n          \"11774\",\n          \"248740\"\n        ],\n        \"semantic_type\": \"\",\n        \"description\": \"\"\n      }\n    },\n    {\n      \"column\": \"Fare\",\n      \"properties\": {\n        \"dtype\": \"number\",\n        \"std\": 0.09699511290237,\n        \"min\": 0.0,\n        \"max\": 1.0,\n        \"num_unique_values\": 248,\n        \"samples\": [\n          0.021942337075458514,\n          0.10122885832000206\n        ],\n        \"semantic_type\": \"\",\n        \"description\": \"\"\n      }\n    },\n    {\n      \"column\": \"Cabin\",\n      \"properties\": {\n        \"dtype\": \"category\",\n        \"num_unique_values\": 148,\n        \"samples\": [\n          \"B101\",\n          \"A19\"\n        ],\n        \"semantic_type\": \"\",\n        \"description\": \"\"\n      }\n    },\n    {\n      \"column\": \"Embarked\",\n      \"properties\": {\n        \"dtype\": \"number\",\n        \"std\": 0,\n        \"min\": 0,\n        \"max\": 2,\n        \"num_unique_values\": 3,\n        \"samples\": [\n          0,\n          2\n        ],\n        \"semantic_type\": \"\",\n        \"description\": \"\"\n      }\n    },\n    {\n      \"column\": \"familyCount\",\n      \"properties\": {\n        \"dtype\": \"number\",\n        \"std\": 1,\n        \"min\": 1,\n        \"max\": 11,\n        \"num_unique_values\": 9,\n        \"samples\": [\n          8,\n          1\n        ],\n        \"semantic_type\": \"\",\n        \"description\": \"\"\n      }\n    },\n    {\n      \"column\": \"HasChild\",\n      \"properties\": {\n        \"dtype\": \"number\",\n        \"std\": 0,\n        \"min\": 0,\n        \"max\": 1,\n        \"num_unique_values\": 2,\n        \"samples\": [\n          1,\n          0\n        ],\n        \"semantic_type\": \"\",\n        \"description\": \"\"\n      }\n    }\n  ]\n}"
            }
          },
          "metadata": {},
          "execution_count": 120
        }
      ],
      "source": [
        "# Map categorical Embarked to numerical values [0,1]\n",
        "data[\"Embarked\"] = data[\"Embarked\"].map({\"S\": 0, \"Q\": 1, \"C\": 2})\n",
        "\n",
        "# Map categorical Sex to numerical values [0,1,2]\n",
        "data[\"Sex\"] = data[\"Sex\"].map({\"female\": 0, \"male\": 1})\n",
        "\n",
        "# Check there are only numerical values in Embarked and Sex\n",
        "data.head()"
      ]
    },
    {
      "cell_type": "markdown",
      "metadata": {
        "id": "rGRobnalZKgm"
      },
      "source": [
        "## Bonus part for machine learning (up to 5 bonus points)"
      ]
    },
    {
      "cell_type": "markdown",
      "metadata": {
        "id": "RmEQBtkJZKgm"
      },
      "source": [
        "### 17\n",
        "\n",
        "Solve the binary classification problem of predicting the survival of a passenger (the target variable $y$ is the Survived column; the task is for each object (passenger), from its feature space (remaining columns) to predict whether he will survive or not based on available data).\n",
        "\n",
        "In order to do this, separate the target variable ''Survived'' from the training sample and train some machine learning algorithm for classification on them (for beginners, we can recommend reading about perhaps the simplest and most understandable algorithm for initial development - kNN) . Using the algorithm you have chosen and trained, then build a prediction on the test set, having previously processed it in the same way as the training one."
      ]
    },
    {
      "cell_type": "code",
      "source": [
        "# Dataset check\n",
        "data.head()"
      ],
      "metadata": {
        "colab": {
          "base_uri": "https://localhost:8080/",
          "height": 258
        },
        "id": "Ornchcv2bdbf",
        "outputId": "074f6fe1-fa4a-4577-a48b-e03e39dd84f5"
      },
      "execution_count": null,
      "outputs": [
        {
          "output_type": "execute_result",
          "data": {
            "text/plain": [
              "   PassengerId  Survived  Pclass  \\\n",
              "0            1         0       3   \n",
              "1            2         1       1   \n",
              "2            3         1       3   \n",
              "3            4         1       1   \n",
              "4            5         0       3   \n",
              "\n",
              "                                                Name  Sex   Age  SibSp  Parch  \\\n",
              "0                            Braund, Mr. Owen Harris    1  22.0      1      0   \n",
              "1  Cumings, Mrs. John Bradley (Florence Briggs Th...    0  38.0      1      0   \n",
              "2                             Heikkinen, Miss. Laina    0  26.0      0      0   \n",
              "3       Futrelle, Mrs. Jacques Heath (Lily May Peel)    0  35.0      1      0   \n",
              "4                           Allen, Mr. William Henry    1  35.0      0      0   \n",
              "\n",
              "             Ticket     Fare    Cabin  Embarked  familyCount  HasChild  \n",
              "0         A/5 21171   7.2500  Unknown         0            2         0  \n",
              "1          PC 17599  71.2833      C85         2            2         0  \n",
              "2  STON/O2. 3101282   7.9250  Unknown         0            1         0  \n",
              "3            113803  53.1000     C123         0            2         0  \n",
              "4            373450   8.0500  Unknown         0            1         0  "
            ],
            "text/html": [
              "\n",
              "  <div id=\"df-68a2e355-e459-4b1c-8e90-5ab9269fd743\" class=\"colab-df-container\">\n",
              "    <div>\n",
              "<style scoped>\n",
              "    .dataframe tbody tr th:only-of-type {\n",
              "        vertical-align: middle;\n",
              "    }\n",
              "\n",
              "    .dataframe tbody tr th {\n",
              "        vertical-align: top;\n",
              "    }\n",
              "\n",
              "    .dataframe thead th {\n",
              "        text-align: right;\n",
              "    }\n",
              "</style>\n",
              "<table border=\"1\" class=\"dataframe\">\n",
              "  <thead>\n",
              "    <tr style=\"text-align: right;\">\n",
              "      <th></th>\n",
              "      <th>PassengerId</th>\n",
              "      <th>Survived</th>\n",
              "      <th>Pclass</th>\n",
              "      <th>Name</th>\n",
              "      <th>Sex</th>\n",
              "      <th>Age</th>\n",
              "      <th>SibSp</th>\n",
              "      <th>Parch</th>\n",
              "      <th>Ticket</th>\n",
              "      <th>Fare</th>\n",
              "      <th>Cabin</th>\n",
              "      <th>Embarked</th>\n",
              "      <th>familyCount</th>\n",
              "      <th>HasChild</th>\n",
              "    </tr>\n",
              "  </thead>\n",
              "  <tbody>\n",
              "    <tr>\n",
              "      <th>0</th>\n",
              "      <td>1</td>\n",
              "      <td>0</td>\n",
              "      <td>3</td>\n",
              "      <td>Braund, Mr. Owen Harris</td>\n",
              "      <td>1</td>\n",
              "      <td>22.0</td>\n",
              "      <td>1</td>\n",
              "      <td>0</td>\n",
              "      <td>A/5 21171</td>\n",
              "      <td>7.2500</td>\n",
              "      <td>Unknown</td>\n",
              "      <td>0</td>\n",
              "      <td>2</td>\n",
              "      <td>0</td>\n",
              "    </tr>\n",
              "    <tr>\n",
              "      <th>1</th>\n",
              "      <td>2</td>\n",
              "      <td>1</td>\n",
              "      <td>1</td>\n",
              "      <td>Cumings, Mrs. John Bradley (Florence Briggs Th...</td>\n",
              "      <td>0</td>\n",
              "      <td>38.0</td>\n",
              "      <td>1</td>\n",
              "      <td>0</td>\n",
              "      <td>PC 17599</td>\n",
              "      <td>71.2833</td>\n",
              "      <td>C85</td>\n",
              "      <td>2</td>\n",
              "      <td>2</td>\n",
              "      <td>0</td>\n",
              "    </tr>\n",
              "    <tr>\n",
              "      <th>2</th>\n",
              "      <td>3</td>\n",
              "      <td>1</td>\n",
              "      <td>3</td>\n",
              "      <td>Heikkinen, Miss. Laina</td>\n",
              "      <td>0</td>\n",
              "      <td>26.0</td>\n",
              "      <td>0</td>\n",
              "      <td>0</td>\n",
              "      <td>STON/O2. 3101282</td>\n",
              "      <td>7.9250</td>\n",
              "      <td>Unknown</td>\n",
              "      <td>0</td>\n",
              "      <td>1</td>\n",
              "      <td>0</td>\n",
              "    </tr>\n",
              "    <tr>\n",
              "      <th>3</th>\n",
              "      <td>4</td>\n",
              "      <td>1</td>\n",
              "      <td>1</td>\n",
              "      <td>Futrelle, Mrs. Jacques Heath (Lily May Peel)</td>\n",
              "      <td>0</td>\n",
              "      <td>35.0</td>\n",
              "      <td>1</td>\n",
              "      <td>0</td>\n",
              "      <td>113803</td>\n",
              "      <td>53.1000</td>\n",
              "      <td>C123</td>\n",
              "      <td>0</td>\n",
              "      <td>2</td>\n",
              "      <td>0</td>\n",
              "    </tr>\n",
              "    <tr>\n",
              "      <th>4</th>\n",
              "      <td>5</td>\n",
              "      <td>0</td>\n",
              "      <td>3</td>\n",
              "      <td>Allen, Mr. William Henry</td>\n",
              "      <td>1</td>\n",
              "      <td>35.0</td>\n",
              "      <td>0</td>\n",
              "      <td>0</td>\n",
              "      <td>373450</td>\n",
              "      <td>8.0500</td>\n",
              "      <td>Unknown</td>\n",
              "      <td>0</td>\n",
              "      <td>1</td>\n",
              "      <td>0</td>\n",
              "    </tr>\n",
              "  </tbody>\n",
              "</table>\n",
              "</div>\n",
              "    <div class=\"colab-df-buttons\">\n",
              "\n",
              "  <div class=\"colab-df-container\">\n",
              "    <button class=\"colab-df-convert\" onclick=\"convertToInteractive('df-68a2e355-e459-4b1c-8e90-5ab9269fd743')\"\n",
              "            title=\"Convert this dataframe to an interactive table.\"\n",
              "            style=\"display:none;\">\n",
              "\n",
              "  <svg xmlns=\"http://www.w3.org/2000/svg\" height=\"24px\" viewBox=\"0 -960 960 960\">\n",
              "    <path d=\"M120-120v-720h720v720H120Zm60-500h600v-160H180v160Zm220 220h160v-160H400v160Zm0 220h160v-160H400v160ZM180-400h160v-160H180v160Zm440 0h160v-160H620v160ZM180-180h160v-160H180v160Zm440 0h160v-160H620v160Z\"/>\n",
              "  </svg>\n",
              "    </button>\n",
              "\n",
              "  <style>\n",
              "    .colab-df-container {\n",
              "      display:flex;\n",
              "      gap: 12px;\n",
              "    }\n",
              "\n",
              "    .colab-df-convert {\n",
              "      background-color: #E8F0FE;\n",
              "      border: none;\n",
              "      border-radius: 50%;\n",
              "      cursor: pointer;\n",
              "      display: none;\n",
              "      fill: #1967D2;\n",
              "      height: 32px;\n",
              "      padding: 0 0 0 0;\n",
              "      width: 32px;\n",
              "    }\n",
              "\n",
              "    .colab-df-convert:hover {\n",
              "      background-color: #E2EBFA;\n",
              "      box-shadow: 0px 1px 2px rgba(60, 64, 67, 0.3), 0px 1px 3px 1px rgba(60, 64, 67, 0.15);\n",
              "      fill: #174EA6;\n",
              "    }\n",
              "\n",
              "    .colab-df-buttons div {\n",
              "      margin-bottom: 4px;\n",
              "    }\n",
              "\n",
              "    [theme=dark] .colab-df-convert {\n",
              "      background-color: #3B4455;\n",
              "      fill: #D2E3FC;\n",
              "    }\n",
              "\n",
              "    [theme=dark] .colab-df-convert:hover {\n",
              "      background-color: #434B5C;\n",
              "      box-shadow: 0px 1px 3px 1px rgba(0, 0, 0, 0.15);\n",
              "      filter: drop-shadow(0px 1px 2px rgba(0, 0, 0, 0.3));\n",
              "      fill: #FFFFFF;\n",
              "    }\n",
              "  </style>\n",
              "\n",
              "    <script>\n",
              "      const buttonEl =\n",
              "        document.querySelector('#df-68a2e355-e459-4b1c-8e90-5ab9269fd743 button.colab-df-convert');\n",
              "      buttonEl.style.display =\n",
              "        google.colab.kernel.accessAllowed ? 'block' : 'none';\n",
              "\n",
              "      async function convertToInteractive(key) {\n",
              "        const element = document.querySelector('#df-68a2e355-e459-4b1c-8e90-5ab9269fd743');\n",
              "        const dataTable =\n",
              "          await google.colab.kernel.invokeFunction('convertToInteractive',\n",
              "                                                    [key], {});\n",
              "        if (!dataTable) return;\n",
              "\n",
              "        const docLinkHtml = 'Like what you see? Visit the ' +\n",
              "          '<a target=\"_blank\" href=https://colab.research.google.com/notebooks/data_table.ipynb>data table notebook</a>'\n",
              "          + ' to learn more about interactive tables.';\n",
              "        element.innerHTML = '';\n",
              "        dataTable['output_type'] = 'display_data';\n",
              "        await google.colab.output.renderOutput(dataTable, element);\n",
              "        const docLink = document.createElement('div');\n",
              "        docLink.innerHTML = docLinkHtml;\n",
              "        element.appendChild(docLink);\n",
              "      }\n",
              "    </script>\n",
              "  </div>\n",
              "\n",
              "\n",
              "<div id=\"df-3ac50e1f-8a49-4575-bb26-a473ba192416\">\n",
              "  <button class=\"colab-df-quickchart\" onclick=\"quickchart('df-3ac50e1f-8a49-4575-bb26-a473ba192416')\"\n",
              "            title=\"Suggest charts\"\n",
              "            style=\"display:none;\">\n",
              "\n",
              "<svg xmlns=\"http://www.w3.org/2000/svg\" height=\"24px\"viewBox=\"0 0 24 24\"\n",
              "     width=\"24px\">\n",
              "    <g>\n",
              "        <path d=\"M19 3H5c-1.1 0-2 .9-2 2v14c0 1.1.9 2 2 2h14c1.1 0 2-.9 2-2V5c0-1.1-.9-2-2-2zM9 17H7v-7h2v7zm4 0h-2V7h2v10zm4 0h-2v-4h2v4z\"/>\n",
              "    </g>\n",
              "</svg>\n",
              "  </button>\n",
              "\n",
              "<style>\n",
              "  .colab-df-quickchart {\n",
              "      --bg-color: #E8F0FE;\n",
              "      --fill-color: #1967D2;\n",
              "      --hover-bg-color: #E2EBFA;\n",
              "      --hover-fill-color: #174EA6;\n",
              "      --disabled-fill-color: #AAA;\n",
              "      --disabled-bg-color: #DDD;\n",
              "  }\n",
              "\n",
              "  [theme=dark] .colab-df-quickchart {\n",
              "      --bg-color: #3B4455;\n",
              "      --fill-color: #D2E3FC;\n",
              "      --hover-bg-color: #434B5C;\n",
              "      --hover-fill-color: #FFFFFF;\n",
              "      --disabled-bg-color: #3B4455;\n",
              "      --disabled-fill-color: #666;\n",
              "  }\n",
              "\n",
              "  .colab-df-quickchart {\n",
              "    background-color: var(--bg-color);\n",
              "    border: none;\n",
              "    border-radius: 50%;\n",
              "    cursor: pointer;\n",
              "    display: none;\n",
              "    fill: var(--fill-color);\n",
              "    height: 32px;\n",
              "    padding: 0;\n",
              "    width: 32px;\n",
              "  }\n",
              "\n",
              "  .colab-df-quickchart:hover {\n",
              "    background-color: var(--hover-bg-color);\n",
              "    box-shadow: 0 1px 2px rgba(60, 64, 67, 0.3), 0 1px 3px 1px rgba(60, 64, 67, 0.15);\n",
              "    fill: var(--button-hover-fill-color);\n",
              "  }\n",
              "\n",
              "  .colab-df-quickchart-complete:disabled,\n",
              "  .colab-df-quickchart-complete:disabled:hover {\n",
              "    background-color: var(--disabled-bg-color);\n",
              "    fill: var(--disabled-fill-color);\n",
              "    box-shadow: none;\n",
              "  }\n",
              "\n",
              "  .colab-df-spinner {\n",
              "    border: 2px solid var(--fill-color);\n",
              "    border-color: transparent;\n",
              "    border-bottom-color: var(--fill-color);\n",
              "    animation:\n",
              "      spin 1s steps(1) infinite;\n",
              "  }\n",
              "\n",
              "  @keyframes spin {\n",
              "    0% {\n",
              "      border-color: transparent;\n",
              "      border-bottom-color: var(--fill-color);\n",
              "      border-left-color: var(--fill-color);\n",
              "    }\n",
              "    20% {\n",
              "      border-color: transparent;\n",
              "      border-left-color: var(--fill-color);\n",
              "      border-top-color: var(--fill-color);\n",
              "    }\n",
              "    30% {\n",
              "      border-color: transparent;\n",
              "      border-left-color: var(--fill-color);\n",
              "      border-top-color: var(--fill-color);\n",
              "      border-right-color: var(--fill-color);\n",
              "    }\n",
              "    40% {\n",
              "      border-color: transparent;\n",
              "      border-right-color: var(--fill-color);\n",
              "      border-top-color: var(--fill-color);\n",
              "    }\n",
              "    60% {\n",
              "      border-color: transparent;\n",
              "      border-right-color: var(--fill-color);\n",
              "    }\n",
              "    80% {\n",
              "      border-color: transparent;\n",
              "      border-right-color: var(--fill-color);\n",
              "      border-bottom-color: var(--fill-color);\n",
              "    }\n",
              "    90% {\n",
              "      border-color: transparent;\n",
              "      border-bottom-color: var(--fill-color);\n",
              "    }\n",
              "  }\n",
              "</style>\n",
              "\n",
              "  <script>\n",
              "    async function quickchart(key) {\n",
              "      const quickchartButtonEl =\n",
              "        document.querySelector('#' + key + ' button');\n",
              "      quickchartButtonEl.disabled = true;  // To prevent multiple clicks.\n",
              "      quickchartButtonEl.classList.add('colab-df-spinner');\n",
              "      try {\n",
              "        const charts = await google.colab.kernel.invokeFunction(\n",
              "            'suggestCharts', [key], {});\n",
              "      } catch (error) {\n",
              "        console.error('Error during call to suggestCharts:', error);\n",
              "      }\n",
              "      quickchartButtonEl.classList.remove('colab-df-spinner');\n",
              "      quickchartButtonEl.classList.add('colab-df-quickchart-complete');\n",
              "    }\n",
              "    (() => {\n",
              "      let quickchartButtonEl =\n",
              "        document.querySelector('#df-3ac50e1f-8a49-4575-bb26-a473ba192416 button');\n",
              "      quickchartButtonEl.style.display =\n",
              "        google.colab.kernel.accessAllowed ? 'block' : 'none';\n",
              "    })();\n",
              "  </script>\n",
              "</div>\n",
              "\n",
              "    </div>\n",
              "  </div>\n"
            ],
            "application/vnd.google.colaboratory.intrinsic+json": {
              "type": "dataframe",
              "variable_name": "data",
              "summary": "{\n  \"name\": \"data\",\n  \"rows\": 891,\n  \"fields\": [\n    {\n      \"column\": \"PassengerId\",\n      \"properties\": {\n        \"dtype\": \"number\",\n        \"std\": 257,\n        \"min\": 1,\n        \"max\": 891,\n        \"num_unique_values\": 891,\n        \"samples\": [\n          710,\n          440,\n          841\n        ],\n        \"semantic_type\": \"\",\n        \"description\": \"\"\n      }\n    },\n    {\n      \"column\": \"Survived\",\n      \"properties\": {\n        \"dtype\": \"number\",\n        \"std\": 0,\n        \"min\": 0,\n        \"max\": 1,\n        \"num_unique_values\": 2,\n        \"samples\": [\n          1,\n          0\n        ],\n        \"semantic_type\": \"\",\n        \"description\": \"\"\n      }\n    },\n    {\n      \"column\": \"Pclass\",\n      \"properties\": {\n        \"dtype\": \"number\",\n        \"std\": 0,\n        \"min\": 1,\n        \"max\": 3,\n        \"num_unique_values\": 3,\n        \"samples\": [\n          3,\n          1\n        ],\n        \"semantic_type\": \"\",\n        \"description\": \"\"\n      }\n    },\n    {\n      \"column\": \"Name\",\n      \"properties\": {\n        \"dtype\": \"string\",\n        \"num_unique_values\": 891,\n        \"samples\": [\n          \"Moubarek, Master. Halim Gonios (\\\"William George\\\")\",\n          \"Kvillner, Mr. Johan Henrik Johannesson\"\n        ],\n        \"semantic_type\": \"\",\n        \"description\": \"\"\n      }\n    },\n    {\n      \"column\": \"Sex\",\n      \"properties\": {\n        \"dtype\": \"number\",\n        \"std\": 0,\n        \"min\": 0,\n        \"max\": 1,\n        \"num_unique_values\": 2,\n        \"samples\": [\n          0,\n          1\n        ],\n        \"semantic_type\": \"\",\n        \"description\": \"\"\n      }\n    },\n    {\n      \"column\": \"Age\",\n      \"properties\": {\n        \"dtype\": \"number\",\n        \"std\": 13.019696550973194,\n        \"min\": 0.42,\n        \"max\": 80.0,\n        \"num_unique_values\": 88,\n        \"samples\": [\n          0.75,\n          22.0\n        ],\n        \"semantic_type\": \"\",\n        \"description\": \"\"\n      }\n    },\n    {\n      \"column\": \"SibSp\",\n      \"properties\": {\n        \"dtype\": \"number\",\n        \"std\": 1,\n        \"min\": 0,\n        \"max\": 8,\n        \"num_unique_values\": 7,\n        \"samples\": [\n          1,\n          0\n        ],\n        \"semantic_type\": \"\",\n        \"description\": \"\"\n      }\n    },\n    {\n      \"column\": \"Parch\",\n      \"properties\": {\n        \"dtype\": \"number\",\n        \"std\": 0,\n        \"min\": 0,\n        \"max\": 6,\n        \"num_unique_values\": 7,\n        \"samples\": [\n          0,\n          1\n        ],\n        \"semantic_type\": \"\",\n        \"description\": \"\"\n      }\n    },\n    {\n      \"column\": \"Ticket\",\n      \"properties\": {\n        \"dtype\": \"string\",\n        \"num_unique_values\": 681,\n        \"samples\": [\n          \"11774\",\n          \"248740\"\n        ],\n        \"semantic_type\": \"\",\n        \"description\": \"\"\n      }\n    },\n    {\n      \"column\": \"Fare\",\n      \"properties\": {\n        \"dtype\": \"number\",\n        \"std\": 49.693428597180905,\n        \"min\": 0.0,\n        \"max\": 512.3292,\n        \"num_unique_values\": 248,\n        \"samples\": [\n          11.2417,\n          51.8625\n        ],\n        \"semantic_type\": \"\",\n        \"description\": \"\"\n      }\n    },\n    {\n      \"column\": \"Cabin\",\n      \"properties\": {\n        \"dtype\": \"category\",\n        \"num_unique_values\": 148,\n        \"samples\": [\n          \"B101\",\n          \"A19\"\n        ],\n        \"semantic_type\": \"\",\n        \"description\": \"\"\n      }\n    },\n    {\n      \"column\": \"Embarked\",\n      \"properties\": {\n        \"dtype\": \"number\",\n        \"std\": 0,\n        \"min\": 0,\n        \"max\": 2,\n        \"num_unique_values\": 3,\n        \"samples\": [\n          0,\n          2\n        ],\n        \"semantic_type\": \"\",\n        \"description\": \"\"\n      }\n    },\n    {\n      \"column\": \"familyCount\",\n      \"properties\": {\n        \"dtype\": \"number\",\n        \"std\": 1,\n        \"min\": 1,\n        \"max\": 11,\n        \"num_unique_values\": 9,\n        \"samples\": [\n          8,\n          1\n        ],\n        \"semantic_type\": \"\",\n        \"description\": \"\"\n      }\n    },\n    {\n      \"column\": \"HasChild\",\n      \"properties\": {\n        \"dtype\": \"number\",\n        \"std\": 0,\n        \"min\": 0,\n        \"max\": 1,\n        \"num_unique_values\": 2,\n        \"samples\": [\n          1,\n          0\n        ],\n        \"semantic_type\": \"\",\n        \"description\": \"\"\n      }\n    }\n  ]\n}"
            }
          },
          "metadata": {},
          "execution_count": 104
        }
      ]
    },
    {
      "cell_type": "code",
      "execution_count": null,
      "metadata": {
        "collapsed": true,
        "id": "hbkcHR3bZKgm",
        "colab": {
          "base_uri": "https://localhost:8080/"
        },
        "outputId": "eccfa845-afb3-4326-9a0e-93227d62ded8"
      },
      "outputs": [
        {
          "output_type": "stream",
          "name": "stdout",
          "text": [
            "Model Accuracy: 82.12%\n"
          ]
        }
      ],
      "source": [
        "from sklearn.model_selection import train_test_split\n",
        "from sklearn.preprocessing import MinMaxScaler\n",
        "from sklearn.neighbors import KNeighborsClassifier\n",
        "from sklearn.metrics import accuracy_score\n",
        "\n",
        "# Drop columns with string data\n",
        "train_data = data.drop(columns=[\"PassengerId\", \"Name\", \"Ticket\", \"Cabin\"])\n",
        "\n",
        "# Separate features (X) and target (y)\n",
        "X = train_data.drop(columns=[\"Survived\"])\n",
        "y = train_data[\"Survived\"]\n",
        "\n",
        "# Split into test and train\n",
        "X_train, X_val, y_train, y_val = train_test_split(\n",
        "    X, y, test_size=0.2, random_state=42\n",
        ")\n",
        "\n",
        "# Train model\n",
        "model = KNeighborsClassifier(n_neighbors=5)\n",
        "model.fit(X_train, y_train)\n",
        "\n",
        "y_pred = model.predict(X_val)\n",
        "accuracy_knn = accuracy_score(y_val, y_pred)\n",
        "print(f\"Model Accuracy: {accuracy_knn:.2%}\")"
      ]
    },
    {
      "cell_type": "markdown",
      "metadata": {
        "id": "YAI_-z1GZKgm"
      },
      "source": [
        "Based on the data you worked with, a competition was created on Kaggle, aimed at aspiring Data Scientists: https://www.kaggle.com/c/titanic. You are invited to participate in it - if you have reached this point, then there is absolutely nothing left for this. Register on Kaggle and accept the competition rules. If you already have an answer for the test sample that you want to send for evaluation and get into the leaderboard, you need to add it to the .csv file and format it as necessary. To do this, in the data tab (https://www.kaggle.com/c/titanic/data) there is an example of what this file should look like (“gender_submission.csv”). You can download and study it. For your convenience, below is the code that allows you to generate a file for sending."
      ]
    },
    {
      "cell_type": "code",
      "execution_count": null,
      "metadata": {
        "collapsed": true,
        "id": "fTy9dXrXZKgm",
        "colab": {
          "base_uri": "https://localhost:8080/",
          "height": 329
        },
        "outputId": "9900e7a4-ffcd-4501-c386-05f9ca8de8ba"
      },
      "outputs": [
        {
          "output_type": "error",
          "ename": "FileNotFoundError",
          "evalue": "[Errno 2] No such file or directory: 'gender_submission.csv'",
          "traceback": [
            "\u001b[0;31m---------------------------------------------------------------------------\u001b[0m",
            "\u001b[0;31mFileNotFoundError\u001b[0m                         Traceback (most recent call last)",
            "\u001b[0;32m<ipython-input-124-657c331f6da0>\u001b[0m in \u001b[0;36m<cell line: 0>\u001b[0;34m()\u001b[0m\n\u001b[0;32m----> 1\u001b[0;31m \u001b[0msubm\u001b[0m \u001b[0;34m=\u001b[0m \u001b[0mpd\u001b[0m\u001b[0;34m.\u001b[0m\u001b[0mread_csv\u001b[0m\u001b[0;34m(\u001b[0m\u001b[0;34m'gender_submission.csv'\u001b[0m\u001b[0;34m)\u001b[0m\u001b[0;34m\u001b[0m\u001b[0;34m\u001b[0m\u001b[0m\n\u001b[0m\u001b[1;32m      2\u001b[0m \u001b[0msubm\u001b[0m\u001b[0;34m[\u001b[0m\u001b[0;34m'Survived'\u001b[0m\u001b[0;34m]\u001b[0m \u001b[0;34m=\u001b[0m \u001b[0mprediction_test\u001b[0m\u001b[0;34m\u001b[0m\u001b[0;34m\u001b[0m\u001b[0m\n",
            "\u001b[0;32m/usr/local/lib/python3.11/dist-packages/pandas/io/parsers/readers.py\u001b[0m in \u001b[0;36mread_csv\u001b[0;34m(filepath_or_buffer, sep, delimiter, header, names, index_col, usecols, dtype, engine, converters, true_values, false_values, skipinitialspace, skiprows, skipfooter, nrows, na_values, keep_default_na, na_filter, verbose, skip_blank_lines, parse_dates, infer_datetime_format, keep_date_col, date_parser, date_format, dayfirst, cache_dates, iterator, chunksize, compression, thousands, decimal, lineterminator, quotechar, quoting, doublequote, escapechar, comment, encoding, encoding_errors, dialect, on_bad_lines, delim_whitespace, low_memory, memory_map, float_precision, storage_options, dtype_backend)\u001b[0m\n\u001b[1;32m   1024\u001b[0m     \u001b[0mkwds\u001b[0m\u001b[0;34m.\u001b[0m\u001b[0mupdate\u001b[0m\u001b[0;34m(\u001b[0m\u001b[0mkwds_defaults\u001b[0m\u001b[0;34m)\u001b[0m\u001b[0;34m\u001b[0m\u001b[0;34m\u001b[0m\u001b[0m\n\u001b[1;32m   1025\u001b[0m \u001b[0;34m\u001b[0m\u001b[0m\n\u001b[0;32m-> 1026\u001b[0;31m     \u001b[0;32mreturn\u001b[0m \u001b[0m_read\u001b[0m\u001b[0;34m(\u001b[0m\u001b[0mfilepath_or_buffer\u001b[0m\u001b[0;34m,\u001b[0m \u001b[0mkwds\u001b[0m\u001b[0;34m)\u001b[0m\u001b[0;34m\u001b[0m\u001b[0;34m\u001b[0m\u001b[0m\n\u001b[0m\u001b[1;32m   1027\u001b[0m \u001b[0;34m\u001b[0m\u001b[0m\n\u001b[1;32m   1028\u001b[0m \u001b[0;34m\u001b[0m\u001b[0m\n",
            "\u001b[0;32m/usr/local/lib/python3.11/dist-packages/pandas/io/parsers/readers.py\u001b[0m in \u001b[0;36m_read\u001b[0;34m(filepath_or_buffer, kwds)\u001b[0m\n\u001b[1;32m    618\u001b[0m \u001b[0;34m\u001b[0m\u001b[0m\n\u001b[1;32m    619\u001b[0m     \u001b[0;31m# Create the parser.\u001b[0m\u001b[0;34m\u001b[0m\u001b[0;34m\u001b[0m\u001b[0m\n\u001b[0;32m--> 620\u001b[0;31m     \u001b[0mparser\u001b[0m \u001b[0;34m=\u001b[0m \u001b[0mTextFileReader\u001b[0m\u001b[0;34m(\u001b[0m\u001b[0mfilepath_or_buffer\u001b[0m\u001b[0;34m,\u001b[0m \u001b[0;34m**\u001b[0m\u001b[0mkwds\u001b[0m\u001b[0;34m)\u001b[0m\u001b[0;34m\u001b[0m\u001b[0;34m\u001b[0m\u001b[0m\n\u001b[0m\u001b[1;32m    621\u001b[0m \u001b[0;34m\u001b[0m\u001b[0m\n\u001b[1;32m    622\u001b[0m     \u001b[0;32mif\u001b[0m \u001b[0mchunksize\u001b[0m \u001b[0;32mor\u001b[0m \u001b[0miterator\u001b[0m\u001b[0;34m:\u001b[0m\u001b[0;34m\u001b[0m\u001b[0;34m\u001b[0m\u001b[0m\n",
            "\u001b[0;32m/usr/local/lib/python3.11/dist-packages/pandas/io/parsers/readers.py\u001b[0m in \u001b[0;36m__init__\u001b[0;34m(self, f, engine, **kwds)\u001b[0m\n\u001b[1;32m   1618\u001b[0m \u001b[0;34m\u001b[0m\u001b[0m\n\u001b[1;32m   1619\u001b[0m         \u001b[0mself\u001b[0m\u001b[0;34m.\u001b[0m\u001b[0mhandles\u001b[0m\u001b[0;34m:\u001b[0m \u001b[0mIOHandles\u001b[0m \u001b[0;34m|\u001b[0m \u001b[0;32mNone\u001b[0m \u001b[0;34m=\u001b[0m \u001b[0;32mNone\u001b[0m\u001b[0;34m\u001b[0m\u001b[0;34m\u001b[0m\u001b[0m\n\u001b[0;32m-> 1620\u001b[0;31m         \u001b[0mself\u001b[0m\u001b[0;34m.\u001b[0m\u001b[0m_engine\u001b[0m \u001b[0;34m=\u001b[0m \u001b[0mself\u001b[0m\u001b[0;34m.\u001b[0m\u001b[0m_make_engine\u001b[0m\u001b[0;34m(\u001b[0m\u001b[0mf\u001b[0m\u001b[0;34m,\u001b[0m \u001b[0mself\u001b[0m\u001b[0;34m.\u001b[0m\u001b[0mengine\u001b[0m\u001b[0;34m)\u001b[0m\u001b[0;34m\u001b[0m\u001b[0;34m\u001b[0m\u001b[0m\n\u001b[0m\u001b[1;32m   1621\u001b[0m \u001b[0;34m\u001b[0m\u001b[0m\n\u001b[1;32m   1622\u001b[0m     \u001b[0;32mdef\u001b[0m \u001b[0mclose\u001b[0m\u001b[0;34m(\u001b[0m\u001b[0mself\u001b[0m\u001b[0;34m)\u001b[0m \u001b[0;34m->\u001b[0m \u001b[0;32mNone\u001b[0m\u001b[0;34m:\u001b[0m\u001b[0;34m\u001b[0m\u001b[0;34m\u001b[0m\u001b[0m\n",
            "\u001b[0;32m/usr/local/lib/python3.11/dist-packages/pandas/io/parsers/readers.py\u001b[0m in \u001b[0;36m_make_engine\u001b[0;34m(self, f, engine)\u001b[0m\n\u001b[1;32m   1878\u001b[0m                 \u001b[0;32mif\u001b[0m \u001b[0;34m\"b\"\u001b[0m \u001b[0;32mnot\u001b[0m \u001b[0;32min\u001b[0m \u001b[0mmode\u001b[0m\u001b[0;34m:\u001b[0m\u001b[0;34m\u001b[0m\u001b[0;34m\u001b[0m\u001b[0m\n\u001b[1;32m   1879\u001b[0m                     \u001b[0mmode\u001b[0m \u001b[0;34m+=\u001b[0m \u001b[0;34m\"b\"\u001b[0m\u001b[0;34m\u001b[0m\u001b[0;34m\u001b[0m\u001b[0m\n\u001b[0;32m-> 1880\u001b[0;31m             self.handles = get_handle(\n\u001b[0m\u001b[1;32m   1881\u001b[0m                 \u001b[0mf\u001b[0m\u001b[0;34m,\u001b[0m\u001b[0;34m\u001b[0m\u001b[0;34m\u001b[0m\u001b[0m\n\u001b[1;32m   1882\u001b[0m                 \u001b[0mmode\u001b[0m\u001b[0;34m,\u001b[0m\u001b[0;34m\u001b[0m\u001b[0;34m\u001b[0m\u001b[0m\n",
            "\u001b[0;32m/usr/local/lib/python3.11/dist-packages/pandas/io/common.py\u001b[0m in \u001b[0;36mget_handle\u001b[0;34m(path_or_buf, mode, encoding, compression, memory_map, is_text, errors, storage_options)\u001b[0m\n\u001b[1;32m    871\u001b[0m         \u001b[0;32mif\u001b[0m \u001b[0mioargs\u001b[0m\u001b[0;34m.\u001b[0m\u001b[0mencoding\u001b[0m \u001b[0;32mand\u001b[0m \u001b[0;34m\"b\"\u001b[0m \u001b[0;32mnot\u001b[0m \u001b[0;32min\u001b[0m \u001b[0mioargs\u001b[0m\u001b[0;34m.\u001b[0m\u001b[0mmode\u001b[0m\u001b[0;34m:\u001b[0m\u001b[0;34m\u001b[0m\u001b[0;34m\u001b[0m\u001b[0m\n\u001b[1;32m    872\u001b[0m             \u001b[0;31m# Encoding\u001b[0m\u001b[0;34m\u001b[0m\u001b[0;34m\u001b[0m\u001b[0m\n\u001b[0;32m--> 873\u001b[0;31m             handle = open(\n\u001b[0m\u001b[1;32m    874\u001b[0m                 \u001b[0mhandle\u001b[0m\u001b[0;34m,\u001b[0m\u001b[0;34m\u001b[0m\u001b[0;34m\u001b[0m\u001b[0m\n\u001b[1;32m    875\u001b[0m                 \u001b[0mioargs\u001b[0m\u001b[0;34m.\u001b[0m\u001b[0mmode\u001b[0m\u001b[0;34m,\u001b[0m\u001b[0;34m\u001b[0m\u001b[0;34m\u001b[0m\u001b[0m\n",
            "\u001b[0;31mFileNotFoundError\u001b[0m: [Errno 2] No such file or directory: 'gender_submission.csv'"
          ]
        }
      ],
      "source": [
        "subm = pd.read_csv('gender_submission.csv')\n",
        "subm['Survived'] = prediction_test"
      ]
    },
    {
      "cell_type": "code",
      "execution_count": null,
      "metadata": {
        "collapsed": true,
        "id": "ZKiUaikeZKgm"
      },
      "outputs": [],
      "source": [
        "subm.to_csv('test_subm_proba.csv', index=False)"
      ]
    },
    {
      "cell_type": "markdown",
      "metadata": {
        "id": "E-HmXOBZZKgn"
      },
      "source": [
        "Submit the file for measurement using the “Submit Predictions” button. The metric used in competitions is accuracy. What was the result? Try to improve it! For example, select the form of features that would be most useful for prediction (feature selection) or create new features (feature generation)."
      ]
    },
    {
      "cell_type": "markdown",
      "source": [
        "### Important!\n",
        "\n",
        "You can find a lot of useful information on this additional task in https://www.kaggle.com/c/titanic/kernels and https://www.kaggle.com/c/titanic/discussion!\n",
        "\n",
        "But do not plagiarize the code from there"
      ],
      "metadata": {
        "id": "UMiAKN_xPf-E"
      }
    }
  ]
}